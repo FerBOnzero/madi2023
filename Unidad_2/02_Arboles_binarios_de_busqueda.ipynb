{
 "cells": [
  {
   "cell_type": "markdown",
   "metadata": {
    "colab_type": "text",
    "id": "view-in-github"
   },
   "source": [
    "<a href=\"https://colab.research.google.com/github/RodolfoFigueroa/madi2023/blob/main/Unidad_2/02_Arboles_binarios_de_busqueda.ipynb\" target=\"_parent\"><img src=\"https://colab.research.google.com/assets/colab-badge.svg\" alt=\"Open In Colab\"/></a>"
   ]
  },
  {
   "cell_type": "code",
   "execution_count": 17,
   "metadata": {},
   "outputs": [],
   "source": [
    "import matplotlib.pyplot as plt\n",
    "\n",
    "import networkx as nx\n",
    "from networkx.drawing.nx_pydot import graphviz_layout"
   ]
  },
  {
   "cell_type": "markdown",
   "metadata": {
    "id": "wY45CICJXqRW"
   },
   "source": [
    "En esta sesión veremos algunas operaciones y algoritmos que se pueden hacer en un árbol binario de búsqueda (BST por sus siglas en inglés), por ejemplo buscar e insertar elementos, así como construir un BST a partir de una lista de números dada."
   ]
  },
  {
   "cell_type": "markdown",
   "metadata": {
    "id": "0aU3GD13Yrrw"
   },
   "source": [
    "Para trabajar con un BST, lo primero que debemos hacer es definir la estructura de nuestros nodos en el árbol, donde cada nodo tiene un valor asignado, y dos apuntadores, uno para su hijo izquierdo y otro para su hijo derecho."
   ]
  },
  {
   "cell_type": "code",
   "execution_count": 43,
   "metadata": {
    "id": "uq08iW4oZG2c"
   },
   "outputs": [],
   "source": [
    "class Node:\n",
    "    def __init__(self, val):\n",
    "        self.val = val\n",
    "        self.left = None\n",
    "        self.right = None\n",
    "        \n",
    "    def __repr__(self):\n",
    "        left = None if self.left is None else self.left.val\n",
    "        right = None if self.right is None else self.right.val\n",
    "        return f\"Valor: {self.val}\\nIzquierda: {left}\\nDerecha: {right}\""
   ]
  },
  {
   "cell_type": "code",
   "execution_count": 44,
   "metadata": {},
   "outputs": [
    {
     "name": "stdout",
     "output_type": "stream",
     "text": [
      "Valor: 4\n",
      "Izquierda: 3\n",
      "Derecha: 5\n"
     ]
    }
   ],
   "source": [
    "n = Node(4)\n",
    "n.left = Node(3)\n",
    "n.right = Node(5)\n",
    "print(n)"
   ]
  },
  {
   "cell_type": "markdown",
   "metadata": {},
   "source": [
    "# Inserción y búsqueda"
   ]
  },
  {
   "cell_type": "markdown",
   "metadata": {
    "id": "3SLk58FxZaSv"
   },
   "source": [
    "Veamos las primeras dos operaciones básicas en un BST: buscar elementos, e insertar elementos. Para insertar elementos en un BST, procedemos de una forma muy similar a como se hace una búsqueda binaria: si queremos insertar el valor `x` y estamos en el nodo `n`, comparamos `n.value` con `x`, para lo cual existen tres casos posibles:\n",
    "\n",
    "* `x < n.value`: Nos desplazamos hacia el hijo de la izquierda. Si este no existe, lo volvemos `x`.\n",
    "* `x > n.value`: Nos desplazamos hacia el hijo de la derecha. Si este no existe, lo volvemos `x`.\n",
    "* `x = n.value`: No hacemos nada, ya que no puede haber elementos duplicados en el BST."
   ]
  },
  {
   "cell_type": "code",
   "execution_count": 2,
   "metadata": {},
   "outputs": [],
   "source": [
    "class Node:\n",
    "    def __init__(self, val):\n",
    "        self.val = val\n",
    "        self.left = None\n",
    "        self.right = None\n",
    "        \n",
    "    def __repr__(self):\n",
    "        left = None if self.left is None else self.left.val\n",
    "        right = None if self.right is None else self.right.val\n",
    "        return f\"Valor: {self.val}\\nIzquierda: {left}\\nDerecha: {right}\"\n",
    "    \n",
    "    def insert(self, x):\n",
    "        if self.val == x:\n",
    "            return\n",
    "\n",
    "        elif x < self.val:\n",
    "            if self.left is not None:\n",
    "                self.left.insert(x)\n",
    "            else:\n",
    "                self.left = Node(x)\n",
    "        else:\n",
    "            if self.right is not None:\n",
    "                self.right.insert(x)\n",
    "            else:\n",
    "                self.right = Node(x)"
   ]
  },
  {
   "cell_type": "code",
   "execution_count": 5,
   "metadata": {},
   "outputs": [
    {
     "name": "stdout",
     "output_type": "stream",
     "text": [
      "Valor: 1\n",
      "Izquierda: None\n",
      "Derecha: 2\n"
     ]
    }
   ],
   "source": [
    "root = Node(0)\n",
    "root.insert(1)\n",
    "root.insert(-2)\n",
    "root.insert(2)\n",
    "root.left.insert(5)\n",
    "print(root.right)"
   ]
  },
  {
   "cell_type": "markdown",
   "metadata": {},
   "source": [
    "Para buscar un elemento, el procedimiento es prácticamente el mismo que en la inserción:\n",
    "\n",
    "* `x < n.value`: Nos desplazamos hacia el hijo de la izquierda. Si este no existe, significa que `x` no está en el árbol.\n",
    "* `x > n.value`: Nos desplazamos hacia el hijo de la derecha. Si este no existe, significa que `x` no está en el árbol.\n",
    "* `x = n.value`: `n` es el nodo que buscamos, así que lo regresamos."
   ]
  },
  {
   "cell_type": "code",
   "execution_count": 10,
   "metadata": {
    "colab": {
     "base_uri": "https://localhost:8080/"
    },
    "id": "VwDWOY5QbBlF",
    "outputId": "4e2fea25-5847-4e69-c887-42da47e2ebc5"
   },
   "outputs": [],
   "source": [
    "class Node:\n",
    "    def __init__(self, val):\n",
    "        self.val = val\n",
    "        self.left = None\n",
    "        self.right = None\n",
    "        \n",
    "        \n",
    "    def __repr__(self):\n",
    "        left = None if self.left is None else self.left.val\n",
    "        right = None if self.right is None else self.right.val\n",
    "        return f\"Valor: {self.val}\\nIzquierda: {left}\\nDerecha: {right}\"\n",
    "       \n",
    "    \n",
    "    def insert(self, x):\n",
    "        if x == self.val:\n",
    "            return\n",
    "        elif x < self.val:\n",
    "            if self.left is not None:\n",
    "                self.left.insert(x)\n",
    "            else:\n",
    "                self.left = Node(x)\n",
    "        elif x > self.val:\n",
    "            if self.right is not None:\n",
    "                self.right.insert(x)\n",
    "            else:\n",
    "                self.right = Node(x)\n",
    "                \n",
    "                \n",
    "    def search(self, x):\n",
    "        if self.val == x:\n",
    "            return self\n",
    "        \n",
    "        elif x < self.val:\n",
    "            if self.left is None:\n",
    "                return\n",
    "            else:\n",
    "                return self.left.search(x)\n",
    "            \n",
    "        elif x > self.val:\n",
    "            if self.right is None:\n",
    "                return\n",
    "            else:\n",
    "                return self.right.search(x)"
   ]
  },
  {
   "cell_type": "code",
   "execution_count": 11,
   "metadata": {},
   "outputs": [
    {
     "data": {
      "text/plain": [
       "Valor: 2\n",
       "Izquierda: None\n",
       "Derecha: None"
      ]
     },
     "execution_count": 11,
     "metadata": {},
     "output_type": "execute_result"
    }
   ],
   "source": [
    "root = Node(0)\n",
    "root.insert(1)\n",
    "root.insert(-2)\n",
    "root.insert(2)\n",
    "\n",
    "root.search(2)"
   ]
  },
  {
   "cell_type": "markdown",
   "metadata": {
    "id": "xAo2PnbplvHU"
   },
   "source": [
    "# Recorridos\n",
    "\n",
    "Veremos ahora tres de las formas más comunes de recorrer un BST: in-order y pre-order traversal. Usaremos el siguiente árbol:\n",
    "\n",
    "```\n",
    "          4\n",
    "        /    \\\n",
    "       2      6\n",
    "      / \\    / \\\n",
    "     1   3  5   7\n",
    "    /            \\\n",
    "   0              8\n",
    "```   "
   ]
  },
  {
   "cell_type": "code",
   "execution_count": 12,
   "metadata": {},
   "outputs": [],
   "source": [
    "tree = Node(4)\n",
    "tree.insert(2)\n",
    "tree.insert(1)\n",
    "tree.insert(0)\n",
    "tree.insert(3)\n",
    "tree.insert(6)\n",
    "tree.insert(5)\n",
    "tree.insert(7)\n",
    "tree.insert(8)"
   ]
  },
  {
   "cell_type": "markdown",
   "metadata": {
    "id": "xAo2PnbplvHU"
   },
   "source": [
    "## In-order\n",
    "\n",
    "In-order traversal nos permite rescatar la lista de números de manera ordenada, visita primero todo lo que hay a la izquierda de la raíz, después la raíz y posteriormente el hijo derecho, haciendo esto de manera recursiva. Esto nos será muy útil para después poder eliminar elementos en un árbol binario de búsqueda. Veamos un ejemplo de un in-order traversal en un árbol de este tipo."
   ]
  },
  {
   "cell_type": "code",
   "execution_count": 13,
   "metadata": {
    "colab": {
     "base_uri": "https://localhost:8080/"
    },
    "id": "V1JkuiDrmY-s",
    "outputId": "96ceb005-420b-4500-efee-5c6a0e2812e8"
   },
   "outputs": [
    {
     "name": "stdout",
     "output_type": "stream",
     "text": [
      "0\n",
      "1\n",
      "2\n",
      "3\n",
      "4\n",
      "5\n",
      "6\n",
      "7\n",
      "8\n"
     ]
    }
   ],
   "source": [
    "def in_order(root):\n",
    "    if root is not None:\n",
    "        in_order(root.left)\n",
    "        print(root.val) # aquí es donde visitamos\n",
    "        in_order(root.right)\n",
    "    else:\n",
    "        return\n",
    "\n",
    "in_order(tree)"
   ]
  },
  {
   "cell_type": "markdown",
   "metadata": {
    "id": "VlxWH1BkmzLf"
   },
   "source": [
    "Notemos que con este tipo de ideas podemos encontrar el mínimo valor y el máximo valor en un árbol binario de búsqueda.\n",
    "\n",
    "## Pre-order\n",
    "\n",
    "Consiste en visitar el nodo actual, después lo que hay en su hijo izquierdo y después en su hijo derecho. Podemos notar que es un recorrido particular de un recorrido de DFS en un árbol."
   ]
  },
  {
   "cell_type": "code",
   "execution_count": 53,
   "metadata": {
    "colab": {
     "base_uri": "https://localhost:8080/"
    },
    "id": "WDcHJeRinEYW",
    "outputId": "e8f09047-be3f-4b83-b221-c98b425ddb78"
   },
   "outputs": [
    {
     "name": "stdout",
     "output_type": "stream",
     "text": [
      "4\n",
      "2\n",
      "1\n",
      "0\n",
      "3\n",
      "6\n",
      "5\n",
      "7\n",
      "8\n"
     ]
    }
   ],
   "source": [
    "def pre_order(root):\n",
    "    if root is not None:\n",
    "        print(root.val)\n",
    "        pre_order(root.left)\n",
    "        pre_order(root.right)\n",
    "    else:\n",
    "        return\n",
    "\n",
    "pre_order(tree)"
   ]
  },
  {
   "cell_type": "markdown",
   "metadata": {},
   "source": [
    "## Post-order\n",
    "\n",
    "Consiste en visitar el subárbol izquierdo, luego el derecho, y finalmente el nodo actual. "
   ]
  },
  {
   "cell_type": "code",
   "execution_count": 55,
   "metadata": {},
   "outputs": [
    {
     "name": "stdout",
     "output_type": "stream",
     "text": [
      "0\n",
      "1\n",
      "3\n",
      "2\n",
      "5\n",
      "8\n",
      "7\n",
      "6\n",
      "4\n"
     ]
    }
   ],
   "source": [
    "def post_order(root):\n",
    "    if root is not None:\n",
    "        pre_order(root.left)\n",
    "        pre_order(root.right)\n",
    "        print(root.val)\n",
    "    else:\n",
    "        return\n",
    "\n",
    "post_order(tree)"
   ]
  },
  {
   "cell_type": "markdown",
   "metadata": {},
   "source": [
    "# Graficado\n",
    "\n",
    "Nótese que podemos utilizar cualquiera de las caminatas anteriores para construir una gráfica de `networkx` a partir de nuestro árbol: cada vez que visitamos un nodo, lo añadimos a él y a sus hijos a la gráfica, junto con las aristas que los unen:"
   ]
  },
  {
   "cell_type": "code",
   "execution_count": 15,
   "metadata": {},
   "outputs": [],
   "source": [
    "def build_graph(root, g=None):\n",
    "    if g is None:\n",
    "        g = nx.Graph()\n",
    "    \n",
    "    if root is not None:\n",
    "        build_graph(root.left, g)\n",
    "        g.add_node(root.val)\n",
    "        if root.left is not None:\n",
    "            g.add_edge(root.val, root.left.val)\n",
    "        if root.right is not None:\n",
    "            g.add_edge(root.val, root.right.val)\n",
    "        build_graph(root.right, g)\n",
    "    return g"
   ]
  },
  {
   "cell_type": "markdown",
   "metadata": {},
   "source": [
    "Para asegurarnos que al momento de graficar se vea como un árbol, usamos el layout `dot` de `graphviz`:"
   ]
  },
  {
   "cell_type": "code",
   "execution_count": 16,
   "metadata": {},
   "outputs": [
    {
     "ename": "ModuleNotFoundError",
     "evalue": "No module named 'pydot'",
     "output_type": "error",
     "traceback": [
      "\u001b[0;31m---------------------------------------------------------------------------\u001b[0m",
      "\u001b[0;31mModuleNotFoundError\u001b[0m                       Traceback (most recent call last)",
      "Input \u001b[0;32mIn [18]\u001b[0m, in \u001b[0;36m<cell line: 4>\u001b[0;34m()\u001b[0m\n\u001b[1;32m      1\u001b[0m g \u001b[38;5;241m=\u001b[39m build_graph(tree)\n\u001b[1;32m      3\u001b[0m fig, ax \u001b[38;5;241m=\u001b[39m plt\u001b[38;5;241m.\u001b[39msubplots(figsize\u001b[38;5;241m=\u001b[39m(\u001b[38;5;241m10\u001b[39m,\u001b[38;5;241m8\u001b[39m))\n\u001b[0;32m----> 4\u001b[0m pos \u001b[38;5;241m=\u001b[39m \u001b[43mgraphviz_layout\u001b[49m\u001b[43m(\u001b[49m\u001b[43mg\u001b[49m\u001b[43m,\u001b[49m\u001b[43m \u001b[49m\u001b[43mprog\u001b[49m\u001b[38;5;241;43m=\u001b[39;49m\u001b[38;5;124;43m\"\u001b[39;49m\u001b[38;5;124;43mdot\u001b[39;49m\u001b[38;5;124;43m\"\u001b[39;49m\u001b[43m)\u001b[49m\n\u001b[1;32m      5\u001b[0m nx\u001b[38;5;241m.\u001b[39mdraw(g, with_labels\u001b[38;5;241m=\u001b[39m\u001b[38;5;28;01mTrue\u001b[39;00m, ax\u001b[38;5;241m=\u001b[39max, pos\u001b[38;5;241m=\u001b[39mpos, font_color\u001b[38;5;241m=\u001b[39m\u001b[38;5;124m\"\u001b[39m\u001b[38;5;124mwhite\u001b[39m\u001b[38;5;124m\"\u001b[39m)\n",
      "File \u001b[0;32m~/miniconda3/lib/python3.9/site-packages/networkx/drawing/nx_pydot.py:357\u001b[0m, in \u001b[0;36mgraphviz_layout\u001b[0;34m(G, prog, root)\u001b[0m\n\u001b[1;32m    349\u001b[0m msg \u001b[38;5;241m=\u001b[39m (\n\u001b[1;32m    350\u001b[0m     \u001b[38;5;124m\"\u001b[39m\u001b[38;5;124mnx.nx_pydot.graphviz_layout depends on the pydot package, which has\u001b[39m\u001b[38;5;124m\"\u001b[39m\n\u001b[1;32m    351\u001b[0m     \u001b[38;5;124m\"\u001b[39m\u001b[38;5;124mknown issues and is not actively maintained. Consider using\u001b[39m\u001b[38;5;124m\"\u001b[39m\n\u001b[1;32m    352\u001b[0m     \u001b[38;5;124m\"\u001b[39m\u001b[38;5;124mnx.nx_agraph.graphviz_layout instead.\u001b[39m\u001b[38;5;130;01m\\n\u001b[39;00m\u001b[38;5;130;01m\\n\u001b[39;00m\u001b[38;5;124m\"\u001b[39m\n\u001b[1;32m    353\u001b[0m     \u001b[38;5;124m\"\u001b[39m\u001b[38;5;124mSee https://github.com/networkx/networkx/issues/5723\u001b[39m\u001b[38;5;124m\"\u001b[39m\n\u001b[1;32m    354\u001b[0m )\n\u001b[1;32m    355\u001b[0m warnings\u001b[38;5;241m.\u001b[39mwarn(msg, \u001b[38;5;167;01mPendingDeprecationWarning\u001b[39;00m, stacklevel\u001b[38;5;241m=\u001b[39m\u001b[38;5;241m2\u001b[39m)\n\u001b[0;32m--> 357\u001b[0m \u001b[38;5;28;01mreturn\u001b[39;00m \u001b[43mpydot_layout\u001b[49m\u001b[43m(\u001b[49m\u001b[43mG\u001b[49m\u001b[38;5;241;43m=\u001b[39;49m\u001b[43mG\u001b[49m\u001b[43m,\u001b[49m\u001b[43m \u001b[49m\u001b[43mprog\u001b[49m\u001b[38;5;241;43m=\u001b[39;49m\u001b[43mprog\u001b[49m\u001b[43m,\u001b[49m\u001b[43m \u001b[49m\u001b[43mroot\u001b[49m\u001b[38;5;241;43m=\u001b[39;49m\u001b[43mroot\u001b[49m\u001b[43m)\u001b[49m\n",
      "File \u001b[0;32m~/miniconda3/lib/python3.9/site-packages/networkx/drawing/nx_pydot.py:398\u001b[0m, in \u001b[0;36mpydot_layout\u001b[0;34m(G, prog, root)\u001b[0m\n\u001b[1;32m    360\u001b[0m \u001b[38;5;28;01mdef\u001b[39;00m \u001b[38;5;21mpydot_layout\u001b[39m(G, prog\u001b[38;5;241m=\u001b[39m\u001b[38;5;124m\"\u001b[39m\u001b[38;5;124mneato\u001b[39m\u001b[38;5;124m\"\u001b[39m, root\u001b[38;5;241m=\u001b[39m\u001b[38;5;28;01mNone\u001b[39;00m):\n\u001b[1;32m    361\u001b[0m     \u001b[38;5;124;03m\"\"\"Create node positions using :mod:`pydot` and Graphviz.\u001b[39;00m\n\u001b[1;32m    362\u001b[0m \n\u001b[1;32m    363\u001b[0m \u001b[38;5;124;03m    Parameters\u001b[39;00m\n\u001b[0;32m   (...)\u001b[0m\n\u001b[1;32m    396\u001b[0m \n\u001b[1;32m    397\u001b[0m \u001b[38;5;124;03m    \"\"\"\u001b[39;00m\n\u001b[0;32m--> 398\u001b[0m     \u001b[38;5;28;01mimport\u001b[39;00m \u001b[38;5;21;01mpydot\u001b[39;00m\n\u001b[1;32m    400\u001b[0m     msg \u001b[38;5;241m=\u001b[39m (\n\u001b[1;32m    401\u001b[0m         \u001b[38;5;124m\"\u001b[39m\u001b[38;5;124mnx.nx_pydot.pydot_layout depends on the pydot package, which has\u001b[39m\u001b[38;5;124m\"\u001b[39m\n\u001b[1;32m    402\u001b[0m         \u001b[38;5;124m\"\u001b[39m\u001b[38;5;124mknown issues and is not actively maintained.\u001b[39m\u001b[38;5;130;01m\\n\u001b[39;00m\u001b[38;5;130;01m\\n\u001b[39;00m\u001b[38;5;124m\"\u001b[39m\n\u001b[1;32m    403\u001b[0m         \u001b[38;5;124m\"\u001b[39m\u001b[38;5;124mSee https://github.com/networkx/networkx/issues/5723\u001b[39m\u001b[38;5;124m\"\u001b[39m\n\u001b[1;32m    404\u001b[0m     )\n\u001b[1;32m    405\u001b[0m     warnings\u001b[38;5;241m.\u001b[39mwarn(msg, \u001b[38;5;167;01mPendingDeprecationWarning\u001b[39;00m, stacklevel\u001b[38;5;241m=\u001b[39m\u001b[38;5;241m2\u001b[39m)\n",
      "\u001b[0;31mModuleNotFoundError\u001b[0m: No module named 'pydot'"
     ]
    },
    {
     "data": {
      "image/png": "[encoded data removed]",
      "text/plain": [
       "<Figure size 720x576 with 1 Axes>"
      ]
     },
     "metadata": {
      "needs_background": "light"
     },
     "output_type": "display_data"
    }
   ],
   "source": [
    "g = build_graph(tree)\n",
    "\n",
    "fig, ax = plt.subplots(figsize=(10,8))\n",
    "pos = graphviz_layout(g, prog=\"dot\")\n",
    "nx.draw(g, with_labels=True, ax=ax, pos=pos, font_color=\"white\")"
   ]
  },
  {
   "cell_type": "markdown",
   "metadata": {
    "id": "JF8fyB0-pvrO"
   },
   "source": [
    "# Borrado\n",
    "\n",
    "Veamos ahora cómo eliminar un nodo $N$ de un BST. Notemos que hay tres casos posibles:\n",
    "\n",
    "\n",
    "*   Si $N$ no tiene hijos, es suficiente con eliminar dicho nodo.\n",
    "*   Si $N$ tiene únicamente un hijo, reemplazamos el nodo $N$ por su hijo.\n",
    "*   Si $N$ tiene dos hijos, tenemos que reacomodar de una manera más sofisticada los nodos para que siga siendo un BST. Esto podemos hacerlo con el siguiente algoritmo:\n",
    "\n",
    "    1. Encontramos el siguiente nodo con un valor mayor a $N$, i.e., su sucesor en in-order traversal; llámese $S$. Nótese que este nodo es el que tiene menor valor del subárbol derecho.  \n",
    "    2. Reemplazamos el valor de $N$ con el de $S$.\n",
    "    3. Borramos $S$, esto último se puede hacer sin problemas pues el sucesor de un nodo con dos hijos es necesariamente una hoja, ya que es el valor mínimo en el subárbol con raíz en su hijo derecho.\n",
    "\n",
    "Para hacer esto, necesitaremos una función que nos permita encontrar el valor mínimo en un sub árbol a partir de cierto nodo. "
   ]
  },
  {
   "cell_type": "code",
   "execution_count": 20,
   "metadata": {},
   "outputs": [],
   "source": [
    "def min_value(root):\n",
    "    if root is not None:\n",
    "        while root.left is not None:\n",
    "            root = root.left\n",
    "        return root\n",
    "    else:\n",
    "        return None"
   ]
  },
  {
   "cell_type": "markdown",
   "metadata": {
    "id": "JF8fyB0-pvrO"
   },
   "source": [
    "Ahora, implementamos el algoritmo de borrado de modo que si pedimos eliminar un valor que no existe, el BST no se vea modificado y no haya problemas."
   ]
  },
  {
   "cell_type": "code",
   "execution_count": 21,
   "metadata": {
    "colab": {
     "base_uri": "https://localhost:8080/"
    },
    "id": "IKSfTTRTsEi9",
    "outputId": "447e7d2f-8381-4a97-cb58-9338e1fcef61"
   },
   "outputs": [
    {
     "name": "stdout",
     "output_type": "stream",
     "text": [
      "0\n",
      "1\n",
      "2\n",
      "3\n",
      "5\n",
      "6\n",
      "7\n",
      "8\n"
     ]
    }
   ],
   "source": [
    "def delete(root, x):\n",
    "    if root is not None:\n",
    "        if root.val == x:\n",
    "            if root.left is None: # Tiene a lo más un hijo, el derecho\n",
    "                new = root.right\n",
    "                root = None # Vaciamos el nodo root\n",
    "                return new\n",
    "            elif root.right is None: # Tiene sólo el hijo izquierdo\n",
    "                new = root.left\n",
    "                root = None\n",
    "                return new\n",
    "            else: # Tiene ambos hijos\n",
    "                new = min_value(root.right)\n",
    "                root.val = new.val\n",
    "                root.right = delete(root.right, new.val)\n",
    "                return root\n",
    "        else: \n",
    "            if root.val < x:\n",
    "                root.right = delete(root.right, x)\n",
    "            else:\n",
    "                root.left = delete(root.left, x)\n",
    "            return root\n",
    "    else:\n",
    "        return None\n",
    "\n",
    "\n",
    "# rd = Node(L[0])\n",
    "# for l in L[1:]:\n",
    "#     rd.insert(l)\n",
    "\n",
    "delete(tree, 4)\n",
    "in_order(tree)"
   ]
  },
  {
   "cell_type": "markdown",
   "metadata": {},
   "source": [
    "# Reconstrucción"
   ]
  },
  {
   "cell_type": "markdown",
   "metadata": {
    "id": "KuLUDLW53IJq"
   },
   "source": [
    "Veamos un último ejemplo. Supongamos que se tiene una lista no vacía de enteros distintos $L$, tal que $L$ es el pre-order de un árbol binario de búsqueda, nuestro objetivo es reconstruir dicho BST.\n",
    "\n",
    "Una primer idea para atacar este problema sería hacer lo que ya hicimos previamente, ir agregando elemento por elemento usando nuestra función de insertar, sin ambargo, hacer esto nos puede tomar $O(n^2)$ en tiempo (si nuestro árbol resulta ser un camino). \n",
    "\n",
    "Optimizaremos nuestro algoritmo usando una pila. Comenzamos con una pila $P$ a la que agregamos el primer valor de la lista $L$, el cual también lo haremos la raíz de nuestro BST. Posteriormente vamos a iterar sobre los elementos de $L$, y tenemos dos casos:\n",
    "\n",
    "*   Si el elemento actual es menor que el elemento en la cima de la pila, hacemos que este elemento sea hijo izquierdo de la cima, y agregamos el nodo a la pila.\n",
    "*   Si el elemento actual es mayor que el elemento en la cima de la pila, removemos dicha cima de la pila, y continuamos removiendo elementos hasta llegar a que la pila sea vacía o que el elemento en la cima sea mayor que el actual, y hacemos que el elemento actual sea el hijo derecho del último elemento que se removió de la pila. Posteriormente agregamos el nodo con valor el elemento actual a la pila.\n",
    "\n",
    "Veamos una implementación de este algoritmo.\n",
    "\n"
   ]
  },
  {
   "cell_type": "code",
   "execution_count": null,
   "metadata": {
    "colab": {
     "base_uri": "https://localhost:8080/"
    },
    "id": "ij2_W0wGnFX5",
    "outputId": "031e63c2-0d1f-4491-a87b-ef0d01b51ede"
   },
   "outputs": [],
   "source": [
    "from collections import deque\n",
    "\n",
    "def construct_BST(L):\n",
    "    root = node(L[0])\n",
    "    queue = deque()\n",
    "    queue.append(root)\n",
    "    for i in range (1, len(L)):\n",
    "        if L[i] < queue[-1].value:\n",
    "            curr = node(L[i])\n",
    "            queue[-1].left = curr\n",
    "            queue.append(curr)\n",
    "        else:\n",
    "            curr = node(L[i])\n",
    "            last = queue[-1]\n",
    "            while queue:\n",
    "                if(L[i] < queue[-1].value):\n",
    "                    break\n",
    "                else:\n",
    "                    last = queue[-1]\n",
    "                    queue.pop()\n",
    "            last.right = curr\n",
    "            queue.append(curr)\n",
    "    return root\n",
    "\n",
    "BST_from_L = construct_BST([2, 1, 7, 4, 3, 6, 5, 8])\n",
    "in_order(BST_from_L)\n",
    "print('------------')\n",
    "pre_order(BST_from_L)"
   ]
  },
  {
   "cell_type": "markdown",
   "metadata": {
    "id": "OurqpW9Nvra5"
   },
   "source": [
    "# Ejercicios"
   ]
  },
  {
   "cell_type": "code",
   "execution_count": null,
   "metadata": {},
   "outputs": [],
   "source": []
  }
 ],
 "metadata": {
  "colab": {
   "collapsed_sections": [],
   "include_colab_link": true,
   "name": "Árboles Binarios de Búsqueda.ipynb",
   "provenance": []
  },
  "kernelspec": {
   "display_name": "Python 3",
   "language": "python",
   "name": "python3"
  },
  "language_info": {
   "codemirror_mode": {
    "name": "ipython",
    "version": 3
   },
   "file_extension": ".py",
   "mimetype": "text/x-python",
   "name": "python",
   "nbconvert_exporter": "python",
   "pygments_lexer": "ipython3",
   "version": "3.9.12"
  }
 },
 "nbformat": 4,
 "nbformat_minor": 4
}
