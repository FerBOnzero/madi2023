{
 "cells": [
  {
   "cell_type": "markdown",
   "id": "87fdde11-5b9e-4435-8066-96d027c5f5c7",
   "metadata": {},
   "source": [
    "* Clase / Tipo / Estructura\n",
    "* Objeto"
   ]
  },
  {
   "cell_type": "markdown",
   "id": "e4634084-d73d-47de-a66d-eae075669310",
   "metadata": {},
   "source": [
    "* Propiedad / Atributo\n",
    "* Método"
   ]
  },
  {
   "cell_type": "code",
   "execution_count": 67,
   "id": "594a6962-8eba-4382-8df7-afb5bb2b5592",
   "metadata": {},
   "outputs": [],
   "source": [
    "class Animal:\n",
    "    def __init__(self, age=5, height=30, weight=10, species=\"dog\"):\n",
    "        self.age = age\n",
    "        self.height = height\n",
    "        self.weight = weight\n",
    "        self.species = species\n",
    "        self.bmi = weight / height\n",
    "        \n",
    "    def __repr__(self):\n",
    "        return f\"Species: {self.species}\\nHeight: {self.height}\\nWeight: {self.weight}\"\n",
    "        \n",
    "    def inc_age(self, x=1):\n",
    "        self.age = self.age + x"
   ]
  },
  {
   "cell_type": "code",
   "execution_count": 93,
   "id": "116aa699-09f2-4ed1-b1d4-ec247dd64c79",
   "metadata": {},
   "outputs": [],
   "source": [
    "class Duple:\n",
    "    def __init__(self, v1, v2):\n",
    "        self.v1 = v1\n",
    "        self.v2 = v2\n",
    "    \n",
    "    def __repr__(self):\n",
    "        return f\"({self.v1}, {self.v2})\"\n",
    "    \n",
    "    def __add__(self, other):\n",
    "        return Duple(self.v1 + other.v1, self.v2 + other.v2)"
   ]
  },
  {
   "cell_type": "code",
   "execution_count": 127,
   "id": "e7441d71-9380-4c42-9a58-680ce6c29b7b",
   "metadata": {},
   "outputs": [],
   "source": [
    "class Person:\n",
    "    def __init__(self, age, height):\n",
    "        self.age = age\n",
    "        self.height = height\n",
    "        \n",
    "    def inc_age(self, x):\n",
    "        self.age = self.age + x"
   ]
  },
  {
   "cell_type": "code",
   "execution_count": 144,
   "id": "63b6e4ba-0c0d-4891-aaec-cdd26d462d79",
   "metadata": {},
   "outputs": [],
   "source": [
    "class Student(Person):\n",
    "    def __init__(self, age, height, uni):\n",
    "        super().__init__(age, height)\n",
    "        self.uni = uni\n",
    "    \n",
    "    def set_uni(self, new):\n",
    "        self.uni = new"
   ]
  },
  {
   "cell_type": "code",
   "execution_count": 145,
   "id": "cd9b44ab-6536-40b4-b27a-20182f2bfbcf",
   "metadata": {},
   "outputs": [],
   "source": [
    "juan = Person(20, 160)\n",
    "pepe = Student(18, 170, \"UNAM\")"
   ]
  },
  {
   "cell_type": "code",
   "execution_count": 146,
   "id": "596dfb1b-f8fa-4c18-b8aa-503576008baf",
   "metadata": {},
   "outputs": [],
   "source": [
    "pepe.inc_age(10)"
   ]
  },
  {
   "cell_type": "code",
   "execution_count": 147,
   "id": "079cb05c-7946-4ccc-a320-cc45acbb5132",
   "metadata": {},
   "outputs": [
    {
     "data": {
      "text/plain": [
       "28"
      ]
     },
     "execution_count": 147,
     "metadata": {},
     "output_type": "execute_result"
    }
   ],
   "source": [
    "pepe.age"
   ]
  },
  {
   "cell_type": "code",
   "execution_count": 132,
   "id": "041d9858-217d-419f-9d46-f2576d037c79",
   "metadata": {},
   "outputs": [
    {
     "data": {
      "text/plain": [
       "'UNAM'"
      ]
     },
     "execution_count": 132,
     "metadata": {},
     "output_type": "execute_result"
    }
   ],
   "source": [
    "pepe.uni"
   ]
  }
 ],
 "metadata": {
  "kernelspec": {
   "display_name": "Python 3",
   "language": "python",
   "name": "python3"
  },
  "language_info": {
   "codemirror_mode": {
    "name": "ipython",
    "version": 3
   },
   "file_extension": ".py",
   "mimetype": "text/x-python",
   "name": "python",
   "nbconvert_exporter": "python",
   "pygments_lexer": "ipython3",
   "version": "3.9.12"
  }
 },
 "nbformat": 4,
 "nbformat_minor": 5
}
