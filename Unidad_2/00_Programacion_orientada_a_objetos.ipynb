{
 "cells": [
  {
   "cell_type": "markdown",
   "id": "347c87d0",
   "metadata": {
    "colab_type": "text",
    "id": "view-in-github"
   },
   "source": [
    "<a href=\"https://colab.research.google.com/github/RodolfoFigueroa/madi2023/blob/main/Unidad_2/00_Programacion_orientada_a_objetos.ipynb\" target=\"_parent\"><img src=\"https://colab.research.google.com/assets/colab-badge.svg\" alt=\"Open In Colab\"/></a>"
   ]
  },
  {
   "cell_type": "markdown",
   "id": "87fdde11-5b9e-4435-8066-96d027c5f5c7",
   "metadata": {},
   "source": [
    "* Clase / Tipo / Estructura\n",
    "* Objeto"
   ]
  },
  {
   "cell_type": "markdown",
   "id": "e4634084-d73d-47de-a66d-eae075669310",
   "metadata": {},
   "source": [
    "* Propiedad / Atributo\n",
    "* Método"
   ]
  },
  {
   "cell_type": "code",
   "execution_count": 67,
   "id": "594a6962-8eba-4382-8df7-afb5bb2b5592",
   "metadata": {},
   "outputs": [],
   "source": [
    "class Animal:\n",
    "    def __init__(self, age=5, height=30, weight=10, species=\"dog\"):\n",
    "        self.age = age\n",
    "        self.height = height\n",
    "        self.weight = weight\n",
    "        self.species = species\n",
    "        self.bmi = weight / height\n",
    "        \n",
    "    def __repr__(self):\n",
    "        return f\"Species: {self.species}\\nHeight: {self.height}\\nWeight: {self.weight}\"\n",
    "        \n",
    "    def inc_age(self, x=1):\n",
    "        self.age = self.age + x"
   ]
  },
  {
   "cell_type": "code",
   "execution_count": 93,
   "id": "116aa699-09f2-4ed1-b1d4-ec247dd64c79",
   "metadata": {},
   "outputs": [],
   "source": [
    "class Duple:\n",
    "    def __init__(self, v1, v2):\n",
    "        self.v1 = v1\n",
    "        self.v2 = v2\n",
    "    \n",
    "    def __repr__(self):\n",
    "        return f\"({self.v1}, {self.v2})\"\n",
    "    \n",
    "    def __add__(self, other):\n",
    "        return Duple(self.v1 + other.v1, self.v2 + other.v2)"
   ]
  },
  {
   "cell_type": "code",
   "execution_count": 127,
   "id": "e7441d71-9380-4c42-9a58-680ce6c29b7b",
   "metadata": {},
   "outputs": [],
   "source": [
    "class Person:\n",
    "    def __init__(self, age, height):\n",
    "        self.age = age\n",
    "        self.height = height\n",
    "        \n",
    "    def inc_age(self, x):\n",
    "        self.age = self.age + x"
   ]
  },
  {
   "cell_type": "code",
   "execution_count": 144,
   "id": "63b6e4ba-0c0d-4891-aaec-cdd26d462d79",
   "metadata": {},
   "outputs": [],
   "source": [
    "class Student(Person):\n",
    "    def __init__(self, age, height, uni):\n",
    "        super().__init__(age, height)\n",
    "        self.uni = uni\n",
    "    \n",
    "    def set_uni(self, new):\n",
    "        self.uni = new"
   ]
  },
  {
   "cell_type": "code",
   "execution_count": 145,
   "id": "cd9b44ab-6536-40b4-b27a-20182f2bfbcf",
   "metadata": {},
   "outputs": [],
   "source": [
    "juan = Person(20, 160)\n",
    "pepe = Student(18, 170, \"UNAM\")"
   ]
  },
  {
   "cell_type": "code",
   "execution_count": 146,
   "id": "596dfb1b-f8fa-4c18-b8aa-503576008baf",
   "metadata": {},
   "outputs": [],
   "source": [
    "pepe.inc_age(10)"
   ]
  },
  {
   "cell_type": "code",
   "execution_count": 147,
   "id": "079cb05c-7946-4ccc-a320-cc45acbb5132",
   "metadata": {},
   "outputs": [
    {
     "data": {
      "text/plain": [
       "28"
      ]
     },
     "execution_count": 147,
     "metadata": {},
     "output_type": "execute_result"
    }
   ],
   "source": [
    "pepe.age"
   ]
  },
  {
   "cell_type": "code",
   "execution_count": 132,
   "id": "041d9858-217d-419f-9d46-f2576d037c79",
   "metadata": {},
   "outputs": [
    {
     "data": {
      "text/plain": [
       "'UNAM'"
      ]
     },
     "execution_count": 132,
     "metadata": {},
     "output_type": "execute_result"
    }
   ],
   "source": [
    "pepe.uni"
   ]
  },
  {
   "cell_type": "markdown",
   "id": "2261c898-1431-4086-b47a-1970d6d33e49",
   "metadata": {},
   "source": [
    "# Ejercicios"
   ]
  },
  {
   "cell_type": "code",
   "execution_count": null,
   "id": "49987349-6fcb-429c-9606-3d2a0b5a6658",
   "metadata": {},
   "outputs": [],
   "source": [
    "class RationalNumber:\n",
    "    def __init__(self, num, den=1):\n",
    "        assert isinstance(num, int) and isinstance(den, int), \n",
    "        self.num = num\n",
    "        self.den = den\n",
    "        \n",
    "    def __add__(self, other):\n",
    "        other = RationalNumber(other)\n",
    "        "
   ]
  },
  {
   "cell_type": "markdown",
   "id": "ccd2b8d6-ab12-485c-b026-d991ef39eef0",
   "metadata": {},
   "source": [
    "## Ejercicio 1\n",
    "\n",
    "Escribe una clase `RationalNumber` utilizada para representar un número racional. \n",
    "\n",
    "* Debe de tener los siguientes atributos:\n",
    "\n",
    "    * `num`: El numerador del número.\n",
    "    * `den`: El denominador del número.\n",
    "\n",
    "* El constructor debe de tener la siguiente forma: \n",
    "\n",
    "    ```\n",
    "    RationalNumber.__init__(num, den=1)\n",
    "    ```\n",
    "    \n",
    "Donde `num` y `den` son números enteros. Si no lo son, debe de tirar un error. Si `den` es cero, debe de tirar un error. \n",
    "\n",
    "El valor por defecto nos dice que es posible pasarle solo el numerador, con un denominador implícito de 1 (i.e., `5` se vuelve `5/1`).\n",
    "\n",
    "* Escribe los *dunders* necesarios para:\n",
    "\n",
    "    * Sumar, restar, multiplicar y dividir dos números, de tal manera que el resultado siempre sea un número racional. Si no es posible hacerlo, debe de tirar un error. Por conveniencia, asume que solo es posible operar racionales con racionales, y racionales con enteros.\n",
    "    * Calcular la potencia, de modo que regrese un número racional.\n",
    "    * Imprimir el número, de la forma \"`num/den`\"\n",
    "    * Comprobar si dos números racionales son iguales. Este debe de tomar en cuenta la posibilidad de que no estén reducidos (i.e., `1/2` debe ser igual a `2/4`).\n",
    "    * Revisar si un número racional es menor que otro. Haz lo mismo para mayor que; menor que o igual; y mayor que o igual. De nuevo, existe la posibilidad de que no estén reducidos.\n",
    "    * Convertir el número a su correspondiente número de punto flotante. Por ejemplo, `1/2` se volvería `0.5`.\n",
    "\n",
    "* Escribe un método `reduce()` para reducir el número a su *fracción irreducible*. Por ejemplo, `3/6` se reduciría a `1/2`; y `6/8` a `3/4`.\n",
    "\n",
    "* Escribe un método `inv()` para calcular el inverso del número, de modo que regrese un número racional."
   ]
  },
  {
   "cell_type": "code",
   "execution_count": null,
   "id": "e9fc2352-451b-41df-aba3-3876d457b69d",
   "metadata": {},
   "outputs": [],
   "source": []
  }
 ],
 "metadata": {
  "kernelspec": {
   "display_name": "Python 3",
   "language": "python",
   "name": "python3"
  },
  "language_info": {
   "codemirror_mode": {
    "name": "ipython",
    "version": 3
   },
   "file_extension": ".py",
   "mimetype": "text/x-python",
   "name": "python",
   "nbconvert_exporter": "python",
   "pygments_lexer": "ipython3",
   "version": "3.9.12"
  }
 },
 "nbformat": 4,
 "nbformat_minor": 5
}
