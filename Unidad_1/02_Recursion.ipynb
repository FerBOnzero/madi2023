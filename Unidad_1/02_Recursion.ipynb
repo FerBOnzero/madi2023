{
 "cells": [
  {
   "cell_type": "markdown",
   "metadata": {
    "colab_type": "text",
    "id": "view-in-github"
   },
   "source": [
    "<a href=\"https://colab.research.google.com/github/RodolfoFigueroa/madi2023/blob/main/Unidad_1/02_Recursion.ipynb\" target=\"_parent\"><img src=\"https://colab.research.google.com/assets/colab-badge.svg\" alt=\"Open In Colab\"/></a>"
   ]
  },
  {
   "cell_type": "code",
   "execution_count": null,
   "metadata": {
    "id": "5UmBSVfljktb"
   },
   "outputs": [],
   "source": [
    "import numpy as np"
   ]
  },
  {
   "cell_type": "markdown",
   "metadata": {
    "id": "En6YnlOwPnQX"
   },
   "source": [
    "En esta sesión veremos algunos ejemplos clásicos donde las recursiones juegan un papel muy importante."
   ]
  },
  {
   "cell_type": "markdown",
   "metadata": {
    "id": "_qJxBZctP9Up"
   },
   "source": [
    "# Sucesión de Fibonacci\n",
    "\n",
    "Es de las mas famosas dentro de las sucesiones definidas recursivamente. Los términos de la sucesión se definen por:\n",
    "\n",
    "\\begin{align}\n",
    "F_0 = 0,\\ F_1 = 1\\\\\n",
    "F_n = F_{n-1} + F_{n-2}\n",
    "\\end{align}\n",
    "\n",
    "Veamos algunos ejemplos relacionados con esta sucesión."
   ]
  },
  {
   "cell_type": "markdown",
   "metadata": {
    "id": "WY8y3GZbSM8O"
   },
   "source": [
    "## Ejemplo 1\n",
    "\n",
    "**Muestra que cualesquiera dos números consecutivos en la sucesión de Fibonacci son primos relativos.**\n",
    "\n",
    "---\n",
    "\n",
    "Probaremos por inducción que para todo entero positivo $n$, se cumple:\n",
    "\n",
    "$$(F_n, F_{n-1}) = 1$$\n",
    "\n",
    "donde $(x,y)$ es el máximo común divisor de $x$ y $y$.\n",
    "\n",
    "**Demostración:**\n",
    "\n",
    "* Caso base: Claramente:\n",
    "\n",
    "$$(0, 1) = 1$$\n",
    "\n",
    "* Hipótesis de inducción: \n",
    "\n",
    "$$(F_k, F_{k-1}) = 1$$\n",
    "\n",
    "* Paso inductivo: Usando que $(a,b) = (a-b, b)$ Notemos que \n",
    "\n",
    "\\begin{align}\n",
    "(F_{k+1}, F_k) &= (F_{k+1} - F_k, F_k) \\\\\n",
    "&= (F_{k-1}, F_k) \\\\\n",
    "&= 1\n",
    "\\end{align}\n",
    "Lo último por nuestra hipótesis de inducción. \n",
    "\n",
    "Concluimos que en efecto, $(F_n, F_{n-1}) = 1$ para todo entero positivo $n$."
   ]
  },
  {
   "cell_type": "markdown",
   "metadata": {
    "id": "aG-CxMW8YQcX"
   },
   "source": [
    "## Ejemplo 2 \n",
    "\n",
    "**Encuentra el residuo de $F_{100005}$ al ser dividido entre $23$.**\n",
    "\n",
    "---\n",
    "\n",
    "Como cada término depende únicamente de los dos anteriores, al considerar la sucesión dada por los residuos de la de Fibonacci, hay $23 \\cdot 23$ parejas posibles de residuos módulo $23$. Por lo tanto, la sucesión de los residuos se va a ciclar a partir de cierto momento (queda como ejercicio probar que esta sucesión se cicla desde el principio). \n",
    "\n",
    "Encontrar la longitud del periodo de esta secuencia nos será útil para resolver este problema, pues si el periodo es $p$ únicamente restaría encontrar el residuo de $100005$ módulo $p$.\n",
    "\n",
    "Encontremos entonces el periodo de la sucesión de los residuos módulo $23$."
   ]
  },
  {
   "cell_type": "code",
   "execution_count": 30,
   "metadata": {
    "colab": {
     "base_uri": "https://localhost:8080/",
     "height": 34
    },
    "id": "h5tV6HIVcHhi",
    "outputId": "24411798-810b-4fdb-dbcf-73ac15434c72"
   },
   "outputs": [
    {
     "data": {
      "text/plain": [
       "48"
      ]
     },
     "execution_count": 30,
     "metadata": {},
     "output_type": "execute_result"
    }
   ],
   "source": [
    "res = [0, 1]\n",
    "cur = (1, 1)\n",
    "\n",
    "while cur != (1,0):\n",
    "    res.append(cur[1])\n",
    "    cur = (cur[1], (cur[0] + cur[1])%23)\n",
    "\n",
    "len(res)"
   ]
  },
  {
   "cell_type": "markdown",
   "metadata": {
    "id": "KNHAVLDCkkWf"
   },
   "source": [
    "Ahora solo resta encontrar el residuo de $100005$ módulo $48$, y tomar el respectivo residuo de la sucesión. "
   ]
  },
  {
   "cell_type": "code",
   "execution_count": 31,
   "metadata": {
    "colab": {
     "base_uri": "https://localhost:8080/",
     "height": 34
    },
    "id": "XayK76EBkweQ",
    "outputId": "3c4e74ce-cf8a-48cb-a13b-4b071c549637"
   },
   "outputs": [
    {
     "name": "stdout",
     "output_type": "stream",
     "text": [
      "El residuo del 100005-ésimo número de Fibonacci módulo 23 es: 21\n"
     ]
    }
   ],
   "source": [
    "print(\"El residuo del 100005-ésimo número de Fibonacci módulo 23 es:\", res[100005 % 48])"
   ]
  },
  {
   "cell_type": "markdown",
   "metadata": {
    "id": "i9e5iNP0shCK"
   },
   "source": [
    "# Torres de Hanoi\n",
    "\n",
    "Consideremos el problema de las torres de Hanoi con $n$ discos:\n",
    "\n",
    "Se tienen $n$ discos de distintos tamaños y tres postes verticales donde se pueden poner estos discos. Inicialmente, se tienen todos los discos en el primer poste ordenados del más chico al más grande, con el más grande en la base. En cada paso se puede mover un disco que se encuentre hasta arriba de algún poste a cualquier otro poste siempre y cuando se coloque en un poste vacío o sobre un disco de mayor tamaño. Determina la menor cantidad de pasos necesarios para mover todos los discos del primer poste al tercero.\n",
    "\n",
    "Veamos qué pasa cuando $n$ es chico. \n",
    "\n",
    "Se puede jugar en https://www.mathsisfun.com/games/towerofhanoi.html\n",
    "\n",
    "* Si $n = 1$ es evidente que en un movimiento podemos lograr lo deseado.  \n",
    "\n",
    "* Para $n = 2$, para poder poner el disco más grande en el tercer poste necesitamos que el disco más chico esté en el segundo poste, es decir, necesitamos al menos tres movimientos, uno para mover el disco chico al segundo poste, otro para mover el grande al tercer poste, y finalmente otro para poner el disco pequeño arriba del grande. \n",
    "\n",
    "* Para $n = 3$, se sigue un razonamiento similar. Necesitamos que los dos discos más chicos estén en el segundo poste (por el caso anterior requerimos al menos $3$ movimientos para esto), para después mover el disco más grande al tercer poste (un movimiento), y luego poner los discos más chicos encima de éste (otros $3$ movimientos), lo que nos da un total de $7$ movimientos.\n",
    "\n",
    "Analizando estos primeros casos, podemos llegar a la conjetura de que el mínimo número de pasos necesarios para lograr lo deseado son $2^n - 1$. Probemos esto por inducción.\n",
    "\n",
    "* Caso base. Los mencionados anteriormente.\n",
    "\n",
    "* Hipótesis de inducción. Para $k$ discos, el menor número de pasos necesarios para mover todos los discos al tercer poste son $2^k - 1$.\n",
    "\n",
    "* Paso inductivo. Con $k+1$ discos. Para poder mover el disco más grande al tercer poste, es necesario que todos los demás estén en el segundo poste, lo que por hipótesis de inducción requiere al menos $2^k -1$ pasos. Posteriormente se requiere al menos un paso para mover el disco más grande al tercer poste, y para concluir, como todos los demás discos tuvieron que estar en el segundo poste, moverlos al tercero nos tomará otros $2^k - 1$ pasos. Sumando, tenemos que se necesitan al menos:\n",
    "\n",
    "$$(2^k - 1) + 1 + (2^k - 1) = 2^{k+1} - 1$$ \n",
    "\n",
    "pasos para lograr pasar todos los discos al tercer poste. Notemos que este paso inductivo también nos dice cómo ir haciendo los pasos para mostrar que $2^{k+1} - 1$ es suficiente para poder llegar al estado deseado.\n",
    "\n",
    "Concluimos que el menor número de pasos para poder pasar los $n$ discos del primer al tercer poste son $2^n - 1$.\n",
    "\n",
    "---\n",
    "\n",
    "Ahora, veamos cómo se puede hacer un código que resuelva este problema en la menor cantidad de pasos posible. Para esto, diseñamos el siguiente sistema para codificar el estado de los discos:\n",
    "\n",
    "* Los postes están representados por una lista de listas $P$. $P_i$ corresponde al $i$-ésimo poste, de izquierda a derecha.\n",
    "\n",
    "* Los $n$ discos se denotan por números desde $1$ hasta $n$, en orden ascendente en relación a su tamaño ($1$ es el más chico, $n$ el más grande).\n",
    "\n",
    "* $P_i$ contiene los números de los discos que están en el correspondiente poste, de abajo hacia arriba. Por ejemplo, si el segundo poste tiene los discos 1, 3, y 5, $P_2 = [5,3,1]$."
   ]
  },
  {
   "cell_type": "code",
   "execution_count": 95,
   "metadata": {
    "colab": {
     "base_uri": "https://localhost:8080/",
     "height": 521
    },
    "id": "XsDjqS7K_IDz",
    "outputId": "fe5ca390-c4e0-4e45-9c32-dd360ad21412"
   },
   "outputs": [
    {
     "name": "stdout",
     "output_type": "stream",
     "text": [
      "| 4 3 2    | 1        |          |\n",
      "| 4 3      | 1        | 2        |\n",
      "| 4 3      |          | 2 1      |\n",
      "| 4        | 3        | 2 1      |\n",
      "| 4 1      | 3        | 2        |\n",
      "| 4 1      | 3 2      |          |\n",
      "| 4        | 3 2 1    |          |\n",
      "|          | 3 2 1    | 4        |\n",
      "|          | 3 2      | 4 1      |\n",
      "| 2        | 3        | 4 1      |\n",
      "| 2 1      | 3        | 4        |\n",
      "| 2 1      |          | 4 3      |\n",
      "| 2        | 1        | 4 3      |\n",
      "|          | 1        | 4 3 2    |\n",
      "|          |          | 4 3 2 1  |\n"
     ]
    }
   ],
   "source": [
    "P = [[4, 3, 2, 1], [], []]\n",
    "steps = 0\n",
    "\n",
    "def pprint(P):\n",
    "    n = sum([len(l) for l in P])\n",
    "    s = '|'\n",
    "    for l in P:\n",
    "        for x in sorted(l)[::-1]:\n",
    "            s += f' {x}'\n",
    "        s += (n - len(l) + 1)*'  ' + '|'\n",
    "    print(s)\n",
    "\n",
    "    \n",
    "def hanoi_solve(y, a, b):\n",
    "    global steps\n",
    "    if y == 1:\n",
    "        P[a].pop()\n",
    "        P[b].append(1)\n",
    "        pprint(P)\n",
    "    else:\n",
    "        hanoi_solve(y-1, a, 3-a-b)\n",
    "        P[a].pop()\n",
    "        P[b].append(y)\n",
    "        steps += 1\n",
    "        pprint(P)\n",
    "        hanoi_solve(y-1, 3-a-b, b)\n",
    "    return\n",
    "\n",
    "hanoi_solve(4, 0, 2)"
   ]
  },
  {
   "cell_type": "markdown",
   "metadata": {
    "id": "yu4YprXGbj4y"
   },
   "source": [
    "## Ejercicio 1 \n",
    "\n",
    "La función de Ackermann $A(m, n)$ está definida para $m, n$ positivos, como:\n",
    "\n",
    "$$\n",
    "\\begin{align}\n",
    "A(0, n) &= n+1\\\\\n",
    "A(m+1, 0) &= A(m, 1)\\\\\n",
    "A(m+1, n+1) &= A(m, A(m+1, n))\n",
    "\\end{align}\n",
    "$$\n",
    "\n",
    "Escribe una función que te permita calcularla para valores arbitrarios de $m, n$, y que regrese un error en caso de que $m$ o $n$ se salga del dominio.\n",
    "\n",
    "*¡Cuidado! Esta función crece extremadamente rápido. Si quieres probarla, ejecútala para valores muy pequeños de $m$ y $n$.*"
   ]
  },
  {
   "cell_type": "markdown",
   "metadata": {
    "id": "RhxEjnRSrlLC"
   },
   "source": [
    "## Ejercicio 2\n",
    "\n",
    "Muestra que al considerar la sucesión de Fibonacci módulo $n$, la sucesión obtenida se cicla desde el principio."
   ]
  },
  {
   "cell_type": "markdown",
   "metadata": {},
   "source": [
    "## Ejercicio 3\n",
    "\n",
    "(Reto, no obligatorio). Muestra que los ciclos de menor longitud en la sucesión de Fibonacci módulo $n$ tienen $1, 2$ o $4$ ceros."
   ]
  }
 ],
 "metadata": {
  "colab": {
   "collapsed_sections": [],
   "include_colab_link": true,
   "name": "Recursión.ipynb",
   "provenance": []
  },
  "kernelspec": {
   "display_name": "Python 3 (ipykernel)",
   "language": "python",
   "name": "python3"
  },
  "language_info": {
   "codemirror_mode": {
    "name": "ipython",
    "version": 3
   },
   "file_extension": ".py",
   "mimetype": "text/x-python",
   "name": "python",
   "nbconvert_exporter": "python",
   "pygments_lexer": "ipython3",
   "version": "3.9.7"
  },
  "vscode": {
   "interpreter": {
    "hash": "4861c6144d8f19ea7b4ff9a1318e46132f7313acf19c077aff52f97015c8eda8"
   }
  }
 },
 "nbformat": 4,
 "nbformat_minor": 4
}
