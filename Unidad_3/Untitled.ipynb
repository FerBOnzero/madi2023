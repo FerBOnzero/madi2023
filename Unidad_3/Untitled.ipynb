{
 "cells": [
  {
   "cell_type": "code",
   "execution_count": 17,
   "id": "ad95635d-d786-41ed-bac4-d499e4b9a967",
   "metadata": {},
   "outputs": [],
   "source": [
    "import matplotlib.pyplot as plt\n",
    "import numpy as np\n",
    "\n",
    "from collections import Counter"
   ]
  },
  {
   "cell_type": "markdown",
   "id": "8593bb59-06b8-4492-b131-ba77cbe05916",
   "metadata": {},
   "source": [
    "# Ejercicio 2"
   ]
  },
  {
   "cell_type": "markdown",
   "id": "20832b83-fc21-44a5-9d82-086b1c90727c",
   "metadata": {},
   "source": [
    "## 1"
   ]
  },
  {
   "cell_type": "code",
   "execution_count": null,
   "id": "7c39ba8e-6800-4ae9-948e-87d64df343b6",
   "metadata": {},
   "outputs": [],
   "source": [
    "def is_valid(count):\n",
    "    for x in count:\n",
    "        if x != 2:\n",
    "            return False\n",
    "    return True"
   ]
  },
  {
   "cell_type": "code",
   "execution_count": 5,
   "id": "c8748c56-8f77-484b-b14e-65d2a2f09808",
   "metadata": {},
   "outputs": [],
   "source": [
    "def foo(n, i, res, out=None, count=None):    \n",
    "    if out is None:\n",
    "        out = []\n",
    "    if count is None:\n",
    "        count = [0] * n\n",
    "        \n",
    "    out.append(i)\n",
    "    count[i-1] += 1\n",
    "    \n",
    "    if all([x==2 for x in count]):\n",
    "        res.append(out.copy())\n",
    "    \n",
    "    for j in range(1, n+1):\n",
    "        if count[j-1] < 2:\n",
    "            foo(n, j, res, out=out.copy(), count=count.copy())\n",
    "            \n",
    "def handler(n):\n",
    "    res = []\n",
    "    for i in range(1, n+1):\n",
    "        foo(n, i, res)\n",
    "    return res"
   ]
  },
  {
   "cell_type": "code",
   "execution_count": 16,
   "id": "a8d5db3e-8e8c-4e49-880b-5c675aed2e04",
   "metadata": {},
   "outputs": [],
   "source": [
    "counts = []\n",
    "for i in range(1, 6):\n",
    "    res = handler(i)\n",
    "    counts.append(len(res))"
   ]
  },
  {
   "cell_type": "code",
   "execution_count": 18,
   "id": "7bc08fc0-abde-48bc-9e4e-9b6088c0ff61",
   "metadata": {},
   "outputs": [
    {
     "data": {
      "text/plain": [
       "[<matplotlib.lines.Line2D at 0x7f914cc71550>]"
      ]
     },
     "execution_count": 18,
     "metadata": {},
     "output_type": "execute_result"
    },
    {
     "data": {
      "image/png": "[encoded data removed]",
      "text/plain": [
       "<Figure size 432x288 with 1 Axes>"
      ]
     },
     "metadata": {
      "needs_background": "light"
     },
     "output_type": "display_data"
    }
   ],
   "source": [
    "plt.plot(counts)"
   ]
  },
  {
   "cell_type": "markdown",
   "id": "a29cd0f3-d0db-481b-95ab-302a296cb078",
   "metadata": {},
   "source": [
    "## 2"
   ]
  },
  {
   "cell_type": "code",
   "execution_count": 28,
   "id": "fafd2c5c-1714-4575-a9a3-8921af72cff1",
   "metadata": {},
   "outputs": [],
   "source": [
    "def foo(n, i, res, out=None, count=None):\n",
    "    if out is None:\n",
    "        out = []\n",
    "    if count is None:\n",
    "        count = [0] * n\n",
    "        \n",
    "    out.append(i)\n",
    "    count[i-1] += 1\n",
    "    \n",
    "    if all([j+1 == x for j, x in enumerate(count)]):\n",
    "        res.append(out.copy())\n",
    "        \n",
    "    for j in range(1, n+1):\n",
    "        if count[j-1] < j:\n",
    "            foo(n, j, res, out=out.copy(), count=count.copy())\n",
    "            \n",
    "def handler(n):\n",
    "    res = []\n",
    "    for i in range(1, n+1):\n",
    "        foo(n, i, res)\n",
    "    return res"
   ]
  },
  {
   "cell_type": "code",
   "execution_count": 31,
   "id": "4d1c3c1a-136d-40e5-a529-42d90845bf19",
   "metadata": {},
   "outputs": [
    {
     "data": {
      "text/plain": [
       "[[1, 2, 2], [2, 1, 2], [2, 2, 1]]"
      ]
     },
     "execution_count": 31,
     "metadata": {},
     "output_type": "execute_result"
    }
   ],
   "source": [
    "handler(2)"
   ]
  },
  {
   "cell_type": "markdown",
   "id": "e022f028-9ca1-41cf-9afe-08115724962f",
   "metadata": {},
   "source": [
    "## 3"
   ]
  },
  {
   "cell_type": "code",
   "execution_count": 6,
   "id": "5ab4d642-8c5f-4c4c-8c63-7d6719498ad6",
   "metadata": {},
   "outputs": [],
   "source": [
    "def foo(n, i, res, out=None, count=None):    \n",
    "    if out is None:\n",
    "        out = []\n",
    "    if count is None:\n",
    "        count = [0] * n\n",
    "        \n",
    "    out.append(i)\n",
    "    count[i-1] += 1\n",
    "    \n",
    "    if all([x<=2 for x in count]):\n",
    "        res.append(out.copy())\n",
    "    \n",
    "    for j in range(1, n+1):\n",
    "        if count[j-1] < 2:\n",
    "            foo(n, j, res, out=out.copy(), count=count.copy())\n",
    "            \n",
    "def handler(n):\n",
    "    res = []\n",
    "    for i in range(1, n+1):\n",
    "        foo(n, i, res)\n",
    "    return res"
   ]
  },
  {
   "cell_type": "code",
   "execution_count": 7,
   "id": "32659956-6c65-4b0e-a511-c4749de7b8ea",
   "metadata": {},
   "outputs": [
    {
     "data": {
      "text/plain": [
       "[[1],\n",
       " [1, 1],\n",
       " [1, 1, 2],\n",
       " [1, 1, 2, 2],\n",
       " [1, 2],\n",
       " [1, 2, 1],\n",
       " [1, 2, 1, 2],\n",
       " [1, 2, 2],\n",
       " [1, 2, 2, 1],\n",
       " [2],\n",
       " [2, 1],\n",
       " [2, 1, 1],\n",
       " [2, 1, 1, 2],\n",
       " [2, 1, 2],\n",
       " [2, 1, 2, 1],\n",
       " [2, 2],\n",
       " [2, 2, 1],\n",
       " [2, 2, 1, 1]]"
      ]
     },
     "execution_count": 7,
     "metadata": {},
     "output_type": "execute_result"
    }
   ],
   "source": [
    "handler(2)"
   ]
  },
  {
   "cell_type": "markdown",
   "id": "172ae749-b806-481c-b775-65cd7493d4c0",
   "metadata": {},
   "source": [
    "# Ejercicio 3"
   ]
  },
  {
   "cell_type": "code",
   "execution_count": 8,
   "id": "d9c6cd39-89fc-4cc9-8f1b-21dc4955a5f8",
   "metadata": {},
   "outputs": [],
   "source": [
    "def is_valid(out, used):\n",
    "    if not all(used):\n",
    "        return False\n",
    "    for i in range(2, len(out)):\n",
    "        if out[i-2] < out[i-1] < out[i]:\n",
    "            return False\n",
    "    return True\n",
    "\n",
    "def foo(n, i, res, out=None, used=None):\n",
    "    assert n >= 3\n",
    "    \n",
    "    if out is None:\n",
    "        out = []\n",
    "    if used is None:\n",
    "        used = [False] * n\n",
    "    \n",
    "    out.append(i)\n",
    "    used[i-1] = True\n",
    "    \n",
    "    if is_valid(out, used):\n",
    "        res.append(out.copy())\n",
    "        \n",
    "    for j in range(1, n+1):\n",
    "        if not used[j-1]:\n",
    "            foo(n, j, res, out=out.copy(), used=used.copy())\n",
    "            \n",
    "def handler(n):\n",
    "    res = []\n",
    "    for i in range(1, n+1):\n",
    "        foo(n, i, res)\n",
    "    return res"
   ]
  },
  {
   "cell_type": "markdown",
   "id": "333c52d6-8e51-44a3-905f-d34e7f0b2665",
   "metadata": {},
   "source": [
    "# OEIS"
   ]
  },
  {
   "cell_type": "code",
   "execution_count": 11,
   "id": "2b21e3ba-b839-4f84-98ed-1a40466a6c74",
   "metadata": {},
   "outputs": [
    {
     "data": {
      "text/plain": [
       "[5, 17, 70, 349, 2017, 13358, 99377, 822041]"
      ]
     },
     "execution_count": 11,
     "metadata": {},
     "output_type": "execute_result"
    }
   ],
   "source": [
    "counts = []\n",
    "for i in range(3, 11):\n",
    "    x = handler(i)\n",
    "    counts.append(len(x))\n",
    "counts"
   ]
  },
  {
   "cell_type": "code",
   "execution_count": 13,
   "id": "d5be2ea3-9d70-478f-b7d0-bbd0aa761f5b",
   "metadata": {},
   "outputs": [
    {
     "data": {
      "text/plain": [
       "[<matplotlib.lines.Line2D at 0x7f7b212962e0>]"
      ]
     },
     "execution_count": 13,
     "metadata": {},
     "output_type": "execute_result"
    },
    {
     "data": {
      "image/png": "[encoded data removed]",
      "text/plain": [
       "<Figure size 432x288 with 1 Axes>"
      ]
     },
     "metadata": {
      "needs_background": "light"
     },
     "output_type": "display_data"
    }
   ],
   "source": [
    "plt.plot(counts)"
   ]
  },
  {
   "cell_type": "markdown",
   "id": "35e7c169-f6bd-4dd8-85f4-f9bc179d1673",
   "metadata": {},
   "source": [
    "# Ejercicio 7"
   ]
  },
  {
   "cell_type": "code",
   "execution_count": 19,
   "id": "2bb9e5b1-a97f-4d95-b4cb-1895c4bb2c03",
   "metadata": {},
   "outputs": [],
   "source": [
    "def trib(n, L):\n",
    "    if len(L) <= n:\n",
    "        diff = n - len(L) + 1\n",
    "        for _ in range(diff):\n",
    "            L.append(None)\n",
    "            \n",
    "    if L[n] is not None:\n",
    "        return L[n]\n",
    "    else:\n",
    "        L[n] = trib(n-1, L) + trib(n-2, L) + trib(n-3, L)\n",
    "        return L[n]"
   ]
  },
  {
   "cell_type": "code",
   "execution_count": 20,
   "id": "da59d969-a2e5-4895-9c51-542ff69d8bc3",
   "metadata": {},
   "outputs": [
    {
     "data": {
      "text/plain": [
       "1083489678390594838169695727189761003770564005347041320036550659232340355828621635463701423131151044"
      ]
     },
     "execution_count": 20,
     "metadata": {},
     "output_type": "execute_result"
    }
   ],
   "source": [
    "i = 0\n",
    "L = [0, 0, 1]\n",
    "while True:\n",
    "    out = trib(i, L)\n",
    "    if len(str(out)) == 100:\n",
    "        break\n",
    "    i += 1\n",
    "out"
   ]
  },
  {
   "cell_type": "code",
   "execution_count": 22,
   "id": "d900b869-6634-468e-889c-c71b1e7f0cae",
   "metadata": {},
   "outputs": [
    {
     "data": {
      "text/plain": [
       "12789542315272557225226295567482485993"
      ]
     },
     "execution_count": 22,
     "metadata": {},
     "output_type": "execute_result"
    }
   ],
   "source": [
    "i = 0\n",
    "flag = False\n",
    "while True:\n",
    "    if flag:\n",
    "        break\n",
    "    out = trib(i, L)\n",
    "    \n",
    "    count = [0] * 10\n",
    "    for c in str(out):\n",
    "        c = int(c)\n",
    "        count[c] += 1\n",
    "        if count[c] == 10:\n",
    "            flag = True\n",
    "    i += 1\n",
    "out"
   ]
  }
 ],
 "metadata": {
  "kernelspec": {
   "display_name": "Python 3",
   "language": "python",
   "name": "python3"
  },
  "language_info": {
   "codemirror_mode": {
    "name": "ipython",
    "version": 3
   },
   "file_extension": ".py",
   "mimetype": "text/x-python",
   "name": "python",
   "nbconvert_exporter": "python",
   "pygments_lexer": "ipython3",
   "version": "3.9.12"
  }
 },
 "nbformat": 4,
 "nbformat_minor": 5
}
