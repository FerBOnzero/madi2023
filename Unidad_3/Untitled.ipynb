{
 "cells": [
  {
   "cell_type": "code",
   "execution_count": 4,
   "id": "ad95635d-d786-41ed-bac4-d499e4b9a967",
   "metadata": {},
   "outputs": [],
   "source": [
    "import matplotlib.pyplot as plt\n",
    "import numpy as np\n",
    "\n",
    "from collections import Counter"
   ]
  },
  {
   "cell_type": "markdown",
   "id": "8593bb59-06b8-4492-b131-ba77cbe05916",
   "metadata": {},
   "source": [
    "# Ejercicio 2"
   ]
  },
  {
   "cell_type": "markdown",
   "id": "20832b83-fc21-44a5-9d82-086b1c90727c",
   "metadata": {},
   "source": [
    "## 1"
   ]
  },
  {
   "cell_type": "code",
   "execution_count": null,
   "id": "7c39ba8e-6800-4ae9-948e-87d64df343b6",
   "metadata": {},
   "outputs": [],
   "source": [
    "def is_valid(count):\n",
    "    for x in count:\n",
    "        if x != 2:\n",
    "            return False\n",
    "    return True"
   ]
  },
  {
   "cell_type": "code",
   "execution_count": 5,
   "id": "c8748c56-8f77-484b-b14e-65d2a2f09808",
   "metadata": {},
   "outputs": [],
   "source": [
    "def foo(n, i, res, out=None, count=None):    \n",
    "    if out is None:\n",
    "        out = []\n",
    "    if count is None:\n",
    "        count = [0] * n\n",
    "        \n",
    "    out.append(i)\n",
    "    count[i-1] += 1\n",
    "    \n",
    "    if all([x==2 for x in count]):\n",
    "        res.append(out.copy())\n",
    "    \n",
    "    for j in range(1, n+1):\n",
    "        if count[j-1] < 2:\n",
    "            foo(n, j, res, out=out.copy(), count=count.copy())\n",
    "            \n",
    "def handler(n):\n",
    "    res = []\n",
    "    for i in range(1, n+1):\n",
    "        foo(n, i, res)\n",
    "    return res"
   ]
  },
  {
   "cell_type": "code",
   "execution_count": 16,
   "id": "a8d5db3e-8e8c-4e49-880b-5c675aed2e04",
   "metadata": {},
   "outputs": [],
   "source": [
    "counts = []\n",
    "for i in range(1, 6):\n",
    "    res = handler(i)\n",
    "    counts.append(len(res))"
   ]
  },
  {
   "cell_type": "code",
   "execution_count": 18,
   "id": "7bc08fc0-abde-48bc-9e4e-9b6088c0ff61",
   "metadata": {},
   "outputs": [
    {
     "data": {
      "text/plain": [
       "[<matplotlib.lines.Line2D at 0x7f914cc71550>]"
      ]
     },
     "execution_count": 18,
     "metadata": {},
     "output_type": "execute_result"
    },
    {
     "data": {
      "image/png": "[encoded data removed]",
      "text/plain": [
       "<Figure size 432x288 with 1 Axes>"
      ]
     },
     "metadata": {
      "needs_background": "light"
     },
     "output_type": "display_data"
    }
   ],
   "source": [
    "plt.plot(counts)"
   ]
  },
  {
   "cell_type": "markdown",
   "id": "a29cd0f3-d0db-481b-95ab-302a296cb078",
   "metadata": {},
   "source": [
    "## 2"
   ]
  },
  {
   "cell_type": "code",
   "execution_count": 28,
   "id": "fafd2c5c-1714-4575-a9a3-8921af72cff1",
   "metadata": {},
   "outputs": [],
   "source": [
    "def foo(n, i, res, out=None, count=None):\n",
    "    if out is None:\n",
    "        out = []\n",
    "    if count is None:\n",
    "        count = [0] * n\n",
    "        \n",
    "    out.append(i)\n",
    "    count[i-1] += 1\n",
    "    \n",
    "    if all([j+1 == x for j, x in enumerate(count)]):\n",
    "        res.append(out.copy())\n",
    "        \n",
    "    for j in range(1, n+1):\n",
    "        if count[j-1] < j:\n",
    "            foo(n, j, res, out=out.copy(), count=count.copy())\n",
    "            \n",
    "def handler(n):\n",
    "    res = []\n",
    "    for i in range(1, n+1):\n",
    "        foo(n, i, res)\n",
    "    return res"
   ]
  },
  {
   "cell_type": "code",
   "execution_count": 31,
   "id": "4d1c3c1a-136d-40e5-a529-42d90845bf19",
   "metadata": {},
   "outputs": [
    {
     "data": {
      "text/plain": [
       "[[1, 2, 2], [2, 1, 2], [2, 2, 1]]"
      ]
     },
     "execution_count": 31,
     "metadata": {},
     "output_type": "execute_result"
    }
   ],
   "source": [
    "handler(2)"
   ]
  },
  {
   "cell_type": "markdown",
   "id": "e022f028-9ca1-41cf-9afe-08115724962f",
   "metadata": {},
   "source": [
    "## 3"
   ]
  },
  {
   "cell_type": "code",
   "execution_count": 6,
   "id": "5ab4d642-8c5f-4c4c-8c63-7d6719498ad6",
   "metadata": {},
   "outputs": [],
   "source": [
    "def foo(n, i, res, out=None, count=None):    \n",
    "    if out is None:\n",
    "        out = []\n",
    "    if count is None:\n",
    "        count = [0] * n\n",
    "        \n",
    "    out.append(i)\n",
    "    count[i-1] += 1\n",
    "    \n",
    "    if all([x<=2 for x in count]):\n",
    "        res.append(out.copy())\n",
    "    \n",
    "    for j in range(1, n+1):\n",
    "        if count[j-1] < 2:\n",
    "            foo(n, j, res, out=out.copy(), count=count.copy())\n",
    "            \n",
    "def handler(n):\n",
    "    res = []\n",
    "    for i in range(1, n+1):\n",
    "        foo(n, i, res)\n",
    "    return res"
   ]
  },
  {
   "cell_type": "code",
   "execution_count": 7,
   "id": "32659956-6c65-4b0e-a511-c4749de7b8ea",
   "metadata": {},
   "outputs": [
    {
     "data": {
      "text/plain": [
       "[[1],\n",
       " [1, 1],\n",
       " [1, 1, 2],\n",
       " [1, 1, 2, 2],\n",
       " [1, 2],\n",
       " [1, 2, 1],\n",
       " [1, 2, 1, 2],\n",
       " [1, 2, 2],\n",
       " [1, 2, 2, 1],\n",
       " [2],\n",
       " [2, 1],\n",
       " [2, 1, 1],\n",
       " [2, 1, 1, 2],\n",
       " [2, 1, 2],\n",
       " [2, 1, 2, 1],\n",
       " [2, 2],\n",
       " [2, 2, 1],\n",
       " [2, 2, 1, 1]]"
      ]
     },
     "execution_count": 7,
     "metadata": {},
     "output_type": "execute_result"
    }
   ],
   "source": [
    "handler(2)"
   ]
  },
  {
   "cell_type": "markdown",
   "id": "172ae749-b806-481c-b775-65cd7493d4c0",
   "metadata": {},
   "source": [
    "# Ejercicio 3"
   ]
  },
  {
   "cell_type": "code",
   "execution_count": 10,
   "id": "d9c6cd39-89fc-4cc9-8f1b-21dc4955a5f8",
   "metadata": {},
   "outputs": [],
   "source": [
    "def is_valid(out, used):\n",
    "    if not all(used):\n",
    "        return False\n",
    "    \n",
    "    if len(out) <= 2 and all(used):\n",
    "        return True\n",
    "    \n",
    "    for i in range(len(out)-2):\n",
    "        for j in range(i+1, len(out)-1):\n",
    "            for k in range(j+1, len(out)):\n",
    "                if out[i] < out[j] < out[k]:\n",
    "                    return False\n",
    "    return True\n",
    "\n",
    "def foo(n, i, res, out=None, used=None):\n",
    "    if out is None:\n",
    "        out = []\n",
    "    if used is None:\n",
    "        used = [False] * n\n",
    "    \n",
    "    out.append(i)\n",
    "    used[i-1] = True\n",
    "    \n",
    "    if is_valid(out, used):\n",
    "        res.append(out.copy())\n",
    "        \n",
    "    for j in range(1, n+1):\n",
    "        if not used[j-1]:\n",
    "            foo(n, j, res, out=out.copy(), used=used.copy())\n",
    "            \n",
    "def handler(n):\n",
    "    res = []\n",
    "    for i in range(1, n+1):\n",
    "        foo(n, i, res)\n",
    "    return res"
   ]
  },
  {
   "cell_type": "code",
   "execution_count": 11,
   "id": "2b21e3ba-b839-4f84-98ed-1a40466a6c74",
   "metadata": {},
   "outputs": [
    {
     "data": {
      "text/plain": [
       "[1, 2, 5, 14, 42, 132, 429, 1430, 4862, 16796]"
      ]
     },
     "execution_count": 11,
     "metadata": {},
     "output_type": "execute_result"
    }
   ],
   "source": [
    "counts = []\n",
    "for i in range(1, 11):\n",
    "    x = handler(i)\n",
    "    counts.append(len(x))\n",
    "counts"
   ]
  },
  {
   "cell_type": "code",
   "execution_count": 12,
   "id": "d5be2ea3-9d70-478f-b7d0-bbd0aa761f5b",
   "metadata": {},
   "outputs": [
    {
     "data": {
      "text/plain": [
       "[<matplotlib.lines.Line2D at 0x7fe974577760>]"
      ]
     },
     "execution_count": 12,
     "metadata": {},
     "output_type": "execute_result"
    },
    {
     "data": {
      "image/png": "[encoded data removed]",
      "text/plain": [
       "<Figure size 432x288 with 1 Axes>"
      ]
     },
     "metadata": {
      "needs_background": "light"
     },
     "output_type": "display_data"
    }
   ],
   "source": [
    "plt.plot(counts)"
   ]
  },
  {
   "cell_type": "markdown",
   "id": "0fb6cfbe-4966-4447-bb9a-db12c0c7ee8c",
   "metadata": {},
   "source": [
    "**Numeros de Catalan**"
   ]
  },
  {
   "cell_type": "markdown",
   "id": "35e7c169-f6bd-4dd8-85f4-f9bc179d1673",
   "metadata": {},
   "source": [
    "# Ejercicio 7"
   ]
  },
  {
   "cell_type": "code",
   "execution_count": 19,
   "id": "2bb9e5b1-a97f-4d95-b4cb-1895c4bb2c03",
   "metadata": {},
   "outputs": [],
   "source": [
    "def trib(n, L):\n",
    "    if len(L) <= n:\n",
    "        diff = n - len(L) + 1\n",
    "        for _ in range(diff):\n",
    "            L.append(None)\n",
    "            \n",
    "    if L[n] is not None:\n",
    "        return L[n]\n",
    "    else:\n",
    "        L[n] = trib(n-1, L) + trib(n-2, L) + trib(n-3, L)\n",
    "        return L[n]"
   ]
  },
  {
   "cell_type": "code",
   "execution_count": 20,
   "id": "da59d969-a2e5-4895-9c51-542ff69d8bc3",
   "metadata": {},
   "outputs": [
    {
     "data": {
      "text/plain": [
       "1083489678390594838169695727189761003770564005347041320036550659232340355828621635463701423131151044"
      ]
     },
     "execution_count": 20,
     "metadata": {},
     "output_type": "execute_result"
    }
   ],
   "source": [
    "i = 0\n",
    "L = [0, 0, 1]\n",
    "while True:\n",
    "    out = trib(i, L)\n",
    "    if len(str(out)) == 100:\n",
    "        break\n",
    "    i += 1\n",
    "out"
   ]
  },
  {
   "cell_type": "code",
   "execution_count": 22,
   "id": "d900b869-6634-468e-889c-c71b1e7f0cae",
   "metadata": {},
   "outputs": [
    {
     "data": {
      "text/plain": [
       "12789542315272557225226295567482485993"
      ]
     },
     "execution_count": 22,
     "metadata": {},
     "output_type": "execute_result"
    }
   ],
   "source": [
    "i = 0\n",
    "flag = False\n",
    "while True:\n",
    "    if flag:\n",
    "        break\n",
    "    out = trib(i, L)\n",
    "    \n",
    "    count = [0] * 10\n",
    "    for c in str(out):\n",
    "        c = int(c)\n",
    "        count[c] += 1\n",
    "        if count[c] == 10:\n",
    "            flag = True\n",
    "    i += 1\n",
    "out"
   ]
  },
  {
   "cell_type": "markdown",
   "id": "4862eb46-0a8c-4748-87bd-ae987d62bd60",
   "metadata": {},
   "source": [
    "# Ejemplos teorema maestro"
   ]
  },
  {
   "cell_type": "markdown",
   "id": "f6dbb74f-79fc-4892-8576-f30ff11bf171",
   "metadata": {},
   "source": [
    "## 1\n",
    "\n",
    "$$\n",
    "T(n) = T\\left(\\sqrt{n}\\right) + n\n",
    "$$\n",
    "\n",
    "Haciendo $n=2^m$, tenemos:\n",
    "\n",
    "$$\n",
    "\\begin{align}\n",
    "    T(2^m) &= T\\left(\\sqrt{2^m}\\right) + 2^m \\\\\n",
    "    &= T\\left(2^{m/2}\\right) + 2^m\n",
    "\\end{align}\n",
    "$$\n",
    "\n",
    "Definiendo:\n",
    "\n",
    "$$\n",
    "S(m) = T(2^m)\n",
    "$$\n",
    "\n",
    "Sustituyendo en la ecuacin anterior:\n",
    "\n",
    "$$\n",
    "S(m) = S\\left(\\frac{m}{2}\\right) + 2^m\n",
    "$$\n",
    "\n",
    "Calculando el exponente crítico:\n",
    "\n",
    "$$\n",
    "c_\\text{crit} = \\log_21 = 0\n",
    "$$\n",
    "\n",
    "Comparando con los casos listados [en Wikipedia](https://en.wikipedia.org/wiki/Master_theorem_(analysis_of_algorithms)#Generic_form), vemos que este es el caso 3. Falta comprobar que se cumple la condición de regularidad. Como recordatorio, tenemos los siguientes parámetros:\n",
    "\n",
    "$$\n",
    "a=1,\\qquad b=2,\\qquad f(n) = 2^n\n",
    "$$\n",
    "\n",
    "Queremos ver si se cumple:\n",
    "\n",
    "$$\n",
    "a \\cdot f\\left(\\frac{n}{b}\\right) \\leq k f(n)\n",
    "$$\n",
    "\n",
    "Para alguna $k<1$ y $n$ lo suficientemente grande. Es decir:\n",
    "\n",
    "$$\n",
    "1\\cdot 2^{n/2} \\leq k 2^n\n",
    "$$\n",
    "\n",
    "Simplificando, esto es equivalente a:\n",
    "\n",
    "$$\n",
    "k \\geq \\frac{1}{2^{n/2}}\n",
    "$$\n",
    "\n",
    "Es fácil ver que esto se cumple para prácticamente cualquier $k<1$. Por ejemplo, si $k=0.5$, para $n\\geq 2$, esto es cierto.\n",
    "\n",
    "Por lo tanto, cumple la condición de regularidad, de lo cual se sigue que:\n",
    "\n",
    "$$\n",
    "S(m) = \\Theta\\left(2^m\\right)\n",
    "$$\n",
    "\n",
    "Es decir:\n",
    "\n",
    "$$\n",
    "T\\left(2^m\\right) = \\Theta\\left(2^m\\right)\n",
    "$$\n",
    "\n",
    "Finalmente, sustituyendo $n=2^m$:\n",
    "\n",
    "$$\n",
    "T(n) = \\Theta(n)\n",
    "$$"
   ]
  },
  {
   "cell_type": "markdown",
   "id": "6be17b76-875f-4aee-a497-0dc200f64f62",
   "metadata": {},
   "source": [
    "## 2\n",
    "\n",
    "$$\n",
    "T(n) = T(n-1) + n\n",
    "$$\n",
    "\n",
    "Evaluando en $n-1$:\n",
    "\n",
    "$$\n",
    "T(n-1) = T(n-2) + (n-1)\n",
    "$$\n",
    "\n",
    "Sustituyendo en la primera ecuación:\n",
    "\n",
    "$$\n",
    "T(n) = T(n-2) + n + (n-1)\n",
    "$$\n",
    "\n",
    "Luego, evaluando la primera ecuación en $n-2$:\n",
    "\n",
    "$$\n",
    "T(n-2) = T(n-3) + (n-2)\n",
    "$$\n",
    "\n",
    "Sustituyendo en la ecuación anterior:\n",
    "\n",
    "$$\n",
    "T(n) = T(n-3) + n + (n-1) + (n-2)\n",
    "$$\n",
    "\n",
    "Podemos repetir este proceso $n$ veces, al final del cual obtendremos:\n",
    "\n",
    "$$\n",
    "T(n) = n + (n-1) + (n-2) + \\cdots + 2 + 1\n",
    "$$\n",
    "\n",
    "De lo cual se sigue:\n",
    "\n",
    "$$\n",
    "T(n) = \\Theta\\left(n^2\\right)\n",
    "$$"
   ]
  },
  {
   "cell_type": "markdown",
   "id": "13fea134-d268-4f08-8252-0d9b0a675171",
   "metadata": {},
   "source": [
    "## 3\n",
    "\n",
    "$$\n",
    "T(n) = 3\\sqrt{n}T\\left(\\sqrt{n}\\right) + \\sqrt{n}\\log n\n",
    "$$\n",
    "\n",
    "Hacemos $n=2^m$:\n",
    "\n",
    "$$\n",
    "\\begin{align}\n",
    "    T\\left(2^m\\right) &= 3 \\sqrt{2^m} T\\left(\\sqrt{2^m}\\right) + \\sqrt{2^m} \\log\\left(2^m\\right) \\\\\n",
    "    &= 3 \\cdot 2^{m/2} T\\left(2^{m/2}\\right) + 2^{m/2}m\\log{2}\n",
    "\\end{align}\n",
    "$$\n",
    "\n",
    "Dividiendo ambos lados por $2^{m}$:\n",
    "\n",
    "$$\n",
    "\\frac{T\\left(2^m\\right)}{2^{m}} = 3\\frac{T\\left(2^{m/2}\\right)}{2^{m/2}} + \\frac{m\\log{2}}{2^{m/2}}\n",
    "$$\n",
    "\n",
    "Definiendo $S(m) = \\frac{T\\left(2^m\\right)}{2^m}$:\n",
    "\n",
    "$$\n",
    "S(m) = 3 S\\left(\\frac{m}{2}\\right) + \\frac{m\\log{2}}{2^{m/2}}\n",
    "$$\n",
    "\n",
    "Calculando el exponente crítico:\n",
    "\n",
    "$$\n",
    "c_\\text{crit} = \\log_23 \\approx 1.58\n",
    "$$\n",
    "\n",
    "Tenemos la función:\n",
    "\n",
    "$$\n",
    "f(n) = \\frac{n\\log{2}}{2^{n/2}}\n",
    "$$\n",
    "\n",
    "Es fácil ver que:\n",
    "\n",
    "$$\n",
    "\\lim_{n\\rightarrow\\infty} f(n)= 0\n",
    "$$\n",
    "\n",
    "Por lo tanto:\n",
    "\n",
    "$$\n",
    "\\lim_{n\\rightarrow\\infty} \\frac{f(n)}{n}= 0\n",
    "$$\n",
    "\n",
    "Pero por el criterio del límite, esto es equivalente a:\n",
    "\n",
    "$$\n",
    "f(n) = O(n)\n",
    "$$\n",
    "\n",
    "Es decir, tenemos el primer caso de la [tabla de Wikipedia](https://en.wikipedia.org/wiki/Master_theorem_(analysis_of_algorithms)#Generic_form), de lo cual se sigue que:\n",
    "\n",
    "$$\n",
    "S(m) = \\Theta\\left(m^{\\log_23}\\right)\n",
    "$$\n",
    "\n",
    "Sustituyendo de regreso:\n",
    "\n",
    "$$\n",
    "\\frac{T\\left(2^m\\right)}{2^m} = \\Theta\\left(m^{\\log_23}\\right)\n",
    "$$\n",
    "\n",
    "$$\n",
    "T\\left(2^m\\right) = \\Theta\\left(2^mm^{\\log_23}\\right)\n",
    "$$\n",
    "\n",
    "$$\n",
    "T(n) = \\Theta\\left[n\\left(\\log_2n\\right)^{\\log_23}\\right]\n",
    "$$"
   ]
  }
 ],
 "metadata": {
  "kernelspec": {
   "display_name": "Python 3",
   "language": "python",
   "name": "python3"
  },
  "language_info": {
   "codemirror_mode": {
    "name": "ipython",
    "version": 3
   },
   "file_extension": ".py",
   "mimetype": "text/x-python",
   "name": "python",
   "nbconvert_exporter": "python",
   "pygments_lexer": "ipython3",
   "version": "3.9.12"
  }
 },
 "nbformat": 4,
 "nbformat_minor": 5
}
