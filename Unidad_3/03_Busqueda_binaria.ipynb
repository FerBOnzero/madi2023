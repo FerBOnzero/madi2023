{
 "cells": [
  {
   "cell_type": "markdown",
   "metadata": {
    "colab_type": "text",
    "id": "view-in-github"
   },
   "source": [
    "<a href=\"https://colab.research.google.com/github/RodolfoFigueroa/madi2023/blob/main/Unidad_3/03_Busqueda_binaria.ipynb\" target=\"_parent\"><img src=\"https://colab.research.google.com/assets/colab-badge.svg\" alt=\"Open In Colab\"/></a>"
   ]
  },
  {
   "cell_type": "code",
   "execution_count": 9,
   "metadata": {},
   "outputs": [],
   "source": [
    "import matplotlib.pyplot as plt\n",
    "import numpy as np"
   ]
  },
  {
   "cell_type": "markdown",
   "metadata": {
    "id": "ZEP-Y6N37H50"
   },
   "source": [
    "# Búsqueda binaria\n",
    "\n",
    "La búsqueda binaria es un constructo muy útil que sirve para mejorar el tiempo de ejecución de muchos algoritmos que operan sobre listas.\n",
    "\n",
    "## Intuición\n",
    "\n",
    "Imaginemos que tenemos una lista ordenada, y queremos determinar si contiene a un elemento $x$. Podríamos (ingenuamente) recorrer toda la lista y compara elemento por elemento; sin embargo, como la lista está ordenada, y asumiendo que estamos parados en un índice $i$, podemos notar lo siguiente:\n",
    "\n",
    "* Si $L_i < x$, entonces tenemos que checar solo los elementos a la derecha de $L_i$ (i.e., aquellos con un índice mayor a $i$), ya que sabemos que todos los elementos a la izquierda también serán menores que $x$.\n",
    "* Por el mismo razonamiento, si $x<L_i$, solo tenemos que checar los elementos a la izquierda.\n",
    "* Finalmente, si $x=L_i$, habremos terminado.\n",
    "\n",
    "Implementamos esto en la siguiente celda:"
   ]
  },
  {
   "cell_type": "code",
   "execution_count": 3,
   "metadata": {},
   "outputs": [],
   "source": [
    "def b_search(L, x):\n",
    "    l = 0\n",
    "    r = len(L) - 1\n",
    "    while l <= r:\n",
    "        m = (l+r)//2\n",
    "        if L[m] == x:\n",
    "            return m\n",
    "        elif L[m] > x:\n",
    "            r = m-1\n",
    "        elif L[m] < x:\n",
    "            l = m+1\n",
    "    return"
   ]
  },
  {
   "cell_type": "markdown",
   "metadata": {},
   "source": [
    "Tomando una lista de ejemplo:"
   ]
  },
  {
   "cell_type": "code",
   "execution_count": 4,
   "metadata": {},
   "outputs": [
    {
     "name": "stdout",
     "output_type": "stream",
     "text": [
      "[-10, -10, -10, -6, -6, -4, -4, -4, -3, -3, -2, -2, 0, 1, 3, 6, 7, 7, 8, 9]\n",
      "El 0 se encuentra en el índice 12\n"
     ]
    }
   ],
   "source": [
    "x = 0\n",
    "L = list(sorted(np.random.randint(-10, 10, 20)))\n",
    "print(L)\n",
    "\n",
    "idx = b_search(L, x)\n",
    "print(f\"El {x} se encuentra en el índice {idx}\")"
   ]
  },
  {
   "cell_type": "markdown",
   "metadata": {},
   "source": [
    "## Extensión\n",
    "\n",
    "Este método puede extenderse a toda clase de problemas que impliquen buscar sobre una lista hasta que uno de sus elementos cumpla una cierta condición. Para evitar estar reescribiendo la función anterior cada vez que queramos cambiarla, la generalizamos de la siguiente manera:"
   ]
  },
  {
   "cell_type": "code",
   "execution_count": 8,
   "metadata": {},
   "outputs": [],
   "source": [
    "def binary_search(L, det):\n",
    "    l = 0\n",
    "    r = len(L) - 1\n",
    "    while l <= r:\n",
    "        m = (l+r)//2\n",
    "        res = det(L, m)\n",
    "        if res == 0:\n",
    "            return m\n",
    "        elif res > 0:\n",
    "            r = m-1\n",
    "        elif res < 0:\n",
    "            l = m+1"
   ]
  },
  {
   "cell_type": "markdown",
   "metadata": {},
   "source": [
    "Nótese que cambiamos el argumento `x` por `det`. Esta es una función de dos argumentos que en cada iteración evaluamos sobre `(L, m)`, y consideramos su resultado de la siguiente forma:\n",
    "\n",
    "* Si `det(L, m) < 0`, tomamos la sublista de la izquierda.\n",
    "* Si `det(L, m) > 0`, tomamos la sublista de la derecha.\n",
    "* Si `det(L, m) = 0`, regresamos.\n",
    "\n",
    "Entonces, nuestro problema de búsqueda binaria original puede reescribirse con la función:\n",
    "\n",
    "$$\n",
    "det(L, m) = L_m - x\n",
    "$$"
   ]
  },
  {
   "cell_type": "code",
   "execution_count": 6,
   "metadata": {},
   "outputs": [
    {
     "name": "stdout",
     "output_type": "stream",
     "text": [
      "El 0 se encuentra en el índice 12\n"
     ]
    }
   ],
   "source": [
    "det = lambda L, m: L[m] - 0\n",
    "idx = binary_search(L, det)\n",
    "print(f\"El {x} se encuentra en el índice {idx}\")"
   ]
  },
  {
   "cell_type": "markdown",
   "metadata": {
    "id": "xT0MXIpA7cu9"
   },
   "source": [
    "# Ejemplos\n",
    "\n",
    "## Puntos fijos\n",
    "\n",
    "Consideremos una lista $L$ de números enteros en orden estrictamente creciente. Nuestro objetivo será determinar si existen o no puntos fijos, es decir, si existen elementos tales que $i = L[i]$.\n",
    "\n",
    "Podemos utilizar búsqueda binaria para este problema, ya que si estamos parados en un índice $i$, tenemos tres posibilidades:\n",
    "\n",
    "*   $i = L_i$, en cuyo caso hemos terminado.\n",
    "*   $i < L_i$, dado que $L$ tiene puros enteros, y están en orden creciente, se tiene que para cualquier $j > i$, $j < L[j]$, por lo que nos queda restringirnos a los índices menores que $i$.\n",
    "*   $i > L_i$ de manera análoga al caso anterior se tiene que podemos restringir nuestra búsqueda a los índices mayores que $i$.\n",
    "\n",
    "Entonces, nuestra función determinante es simplemente:\n",
    "\n",
    "$$\n",
    "det(L, m) = L_m - m\n",
    "$$"
   ]
  },
  {
   "cell_type": "code",
   "execution_count": 12,
   "metadata": {
    "colab": {
     "base_uri": "https://localhost:8080/"
    },
    "id": "G6OjtMibE5s5",
    "outputId": "dfaed938-e348-4344-d58a-bb722594be97"
   },
   "outputs": [
    {
     "name": "stdout",
     "output_type": "stream",
     "text": [
      "El punto fijo está en el lugar 4\n"
     ]
    }
   ],
   "source": [
    "L = [-4, -1, 0, 1, 4, 6, 8]\n",
    "det = lambda L, m: L[m] - m\n",
    "idx = binary_search(L, det)\n",
    "print(f\"El punto fijo está en el lugar {idx}\")"
   ]
  },
  {
   "cell_type": "markdown",
   "metadata": {
    "id": "7cmTBlVpPRq2"
   },
   "source": [
    "## Picos\n",
    "\n",
    "Aupongamos ahora que tenemos una lista (con al menos tres elementos) en forma de pico, es decir, que existe un elemento tal que todos los elementos antes de él estan en orden creciente, y todos los elementos posteriores están en orden decreciente. ¿Cómo encontrar el dicho pico?\n",
    "\n",
    "Si estamos parados en el $i-$ésimo elemento, se tienen tres casos:\n",
    "\n",
    "* $L_{i-1} < L_{i} < L_{i+1}$, en este caso, sabemos que el pico se encuentra a la derecha de $i$.\n",
    "* $L_{i-1} > L_{i} > L_{i+1}$, en este caso, sabemos que el pico se encuentra a la izquierda de $i$.\n",
    "* $L_{i-1} < L_{i}$ y $L_{i} > L_{i+1}$, en este caso hemos encontrado el pico de la lista, pues es el único elemento que cumple ambas desigualdades.\n",
    "\n",
    "Dadas estas condiciones, podemos escribir el determinante como:"
   ]
  },
  {
   "cell_type": "code",
   "execution_count": 18,
   "metadata": {},
   "outputs": [],
   "source": [
    "def det_peak(L, m):\n",
    "    if L[m-1] < L[m] < L[m+1]:\n",
    "        return 1\n",
    "    elif L[m-1] > L[m] > L[m+1]:\n",
    "        return -1\n",
    "    else:\n",
    "        return 0"
   ]
  },
  {
   "cell_type": "markdown",
   "metadata": {},
   "source": [
    "Tomando la siguiente lista:"
   ]
  },
  {
   "cell_type": "code",
   "execution_count": 19,
   "metadata": {},
   "outputs": [
    {
     "data": {
      "text/plain": [
       "[<matplotlib.lines.Line2D at 0x27d9c06b6d0>]"
      ]
     },
     "execution_count": 19,
     "metadata": {},
     "output_type": "execute_result"
    },
    {
     "data": {
      "image/png": "[encoded data removed]",
      "text/plain": [
       "<Figure size 800x200 with 1 Axes>"
      ]
     },
     "metadata": {},
     "output_type": "display_data"
    }
   ],
   "source": [
    "L = [1, 2, 4, 5, 7, 9, 8, 7, 3, 2, 0]\n",
    "\n",
    "fig, ax = plt.subplots(figsize=(8, 2))\n",
    "ax.plot(L)"
   ]
  },
  {
   "cell_type": "markdown",
   "metadata": {},
   "source": [
    "Aplicando la función:"
   ]
  },
  {
   "cell_type": "code",
   "execution_count": 23,
   "metadata": {},
   "outputs": [
    {
     "name": "stdout",
     "output_type": "stream",
     "text": [
      "El pico está en el lugar 5, y es 9.\n"
     ]
    }
   ],
   "source": [
    "idx = binary_search(L, det_peak)\n",
    "print(f\"El pico está en el lugar {idx}, y es {L[idx]}.\")"
   ]
  },
  {
   "cell_type": "markdown",
   "metadata": {
    "id": "qtl9uhZhHVww"
   },
   "source": [
    "## Raíz cuadrada\n",
    "\n",
    "Hasta ahora hemos visto ejemplos de búsqueda binaria en casos discretos. Sin embargo, podemos extenderla al caso continuo. Por ejemplo, si queremos calcular la raíz cuadrada de $x$, basta con notar que, si estamos parados en un cierto número $a$, se tienen 3 casos:\n",
    "\n",
    "*   Si $a^2 < x$, entonces podemos restringir nuestra búsqueda a números mayores que $a$.\n",
    "*   Si $a^2 > x$, podemos restringir la búsqueda a números menores que $a$.\n",
    "*   Si $a^2 = x$, hemos terminado.\n",
    "\n",
    "En la práctica, es muy poco probable que $a^2$ sea exactamente igual a $x$, debido a la manera en que se representan los números de punto flotante. Entonces, en vez de checar la igualdad, hacemos:\n",
    "\n",
    "$$\n",
    "|a^2-x|<\\epsilon\n",
    "$$\n",
    "\n",
    "Donde $\\epsilon$ es una cierta tolerancia.\n",
    "\n",
    "Finalmente, hay que notar que podemos restringir los intervalos de búsqueda de la siguiente manera:\n",
    "\n",
    "* Si $x<0$, no es posible encontrar una solución.\n",
    "* Si $0\\leq x<1$, nos restringimos al intervalo $[0,1)$.\n",
    "* Si $1\\leq x$, nos quedamos en el intervalo $[1, x]$.\n",
    "\n",
    "Con todo esto, escribimos el algoritmo correspondiente:"
   ]
  },
  {
   "cell_type": "code",
   "execution_count": 25,
   "metadata": {
    "colab": {
     "base_uri": "https://localhost:8080/"
    },
    "id": "Nd3IbGOgLt7j",
    "outputId": "d53ecefd-f387-4831-c0b3-15b5509b150c"
   },
   "outputs": [],
   "source": [
    "def sqrt(x, e=1e-6):\n",
    "    assert x > 0, \"El número no tiene raíz cuadrada en los reales\"\n",
    "    \n",
    "    if 0 <= x < 1:\n",
    "        l, r = 0, 1\n",
    "    else:\n",
    "        l, r = 1, x\n",
    "        \n",
    "    while l < r:\n",
    "        m = (l+r)/2\n",
    "        a = m*m\n",
    "        if abs(a - x) < e:\n",
    "            return m\n",
    "        elif a > x:\n",
    "            r = m\n",
    "        elif a < x:\n",
    "            l = m\n",
    "    return (l+r)/2"
   ]
  },
  {
   "cell_type": "markdown",
   "metadata": {},
   "source": [
    "Aplicándolo a $12^2=144$:"
   ]
  },
  {
   "cell_type": "code",
   "execution_count": 26,
   "metadata": {
    "colab": {
     "base_uri": "https://localhost:8080/"
    },
    "id": "Nd3IbGOgLt7j",
    "outputId": "d53ecefd-f387-4831-c0b3-15b5509b150c"
   },
   "outputs": [
    {
     "name": "stdout",
     "output_type": "stream",
     "text": [
      "12.000000010244548\n"
     ]
    }
   ],
   "source": [
    "print(sqrt(144))"
   ]
  },
  {
   "cell_type": "markdown",
   "metadata": {},
   "source": [
    "## Picos continuos\n",
    "\n",
    "Recordando el ejemplo anterior de los picos, supongamos que ahora tenemos una función $f:[a,b]\\rightarrow \\mathbb{R}$, tal que tiene un único pico en el intervalo $[a,b]$. ¿Cómo lo encontramos?\n",
    "\n",
    "Como ahora estamos en la recta real, expresiones con índices de la forma $L_i$ no tienen sentido, ya que no podemos tomar el \"siguiente número real\". Debido a esto, tenemos que partir el intervalo en *tres* partes, en vez de dos. Entonces, sean $l$ y $r$ el primer y segundo tercio del intervalo $[a,b]$. De esto, se siguen las siguientes observaciones:\n",
    "\n",
    "* Si $f(l) < f(r)$, podemos descartar el intervalo $[a, l]$.\n",
    "* Si $f(l) > f(r)$, podemos descartar el intervalo $[r, b]$.\n",
    "* Si $f(l) = f(r)$, podemos descartar tanto el intervalo $[a, l]$ como el $[r, b]$, ya que sabemos que el pico estará en el intervalo de en medio."
   ]
  },
  {
   "cell_type": "code",
   "execution_count": 28,
   "metadata": {
    "colab": {
     "base_uri": "https://localhost:8080/"
    },
    "id": "6B5Nuw60oiuk",
    "outputId": "663f9f23-6379-4f56-ceab-5c91d39f7eda"
   },
   "outputs": [],
   "source": [
    "def peak_cont(f, a, b, e=1e-6):\n",
    "    while b - a >= e:\n",
    "        l = a + (b-a)/3\n",
    "        r = b - (b-a)/3\n",
    "        f1 = f(l)\n",
    "        f2 = f(r)\n",
    "        if f1 < f2:\n",
    "            a = l\n",
    "        elif f1 > f2:\n",
    "            b = r\n",
    "        else:\n",
    "            a = l\n",
    "            b = r\n",
    "    return (a+b)/2"
   ]
  },
  {
   "cell_type": "markdown",
   "metadata": {},
   "source": [
    "Aplicándola a la función \n",
    "\n",
    "$$\n",
    "f(x) = x^3 + 3x^2\n",
    "$$\n",
    "\n",
    "En el intervalo $[-3, 0]$:"
   ]
  },
  {
   "cell_type": "code",
   "execution_count": 35,
   "metadata": {
    "colab": {
     "base_uri": "https://localhost:8080/"
    },
    "id": "6B5Nuw60oiuk",
    "outputId": "663f9f23-6379-4f56-ceab-5c91d39f7eda"
   },
   "outputs": [
    {
     "data": {
      "text/plain": [
       "-2.000000042236351"
      ]
     },
     "execution_count": 35,
     "metadata": {},
     "output_type": "execute_result"
    }
   ],
   "source": [
    "f = lambda x: x**3 + 3 * x**2\n",
    "p = peak_cont(f, -3,0)\n",
    "p"
   ]
  },
  {
   "cell_type": "code",
   "execution_count": 39,
   "metadata": {},
   "outputs": [
    {
     "data": {
      "text/plain": [
       "<matplotlib.lines.Line2D at 0x27d9d35af40>"
      ]
     },
     "execution_count": 39,
     "metadata": {},
     "output_type": "execute_result"
    },
    {
     "data": {
      "image/png": "[encoded data removed]",
      "text/plain": [
       "<Figure size 800x400 with 1 Axes>"
      ]
     },
     "metadata": {},
     "output_type": "display_data"
    }
   ],
   "source": [
    "x = np.linspace(-5, 0, 100)\n",
    "y = f(x)\n",
    "\n",
    "fig, ax = plt.subplots(figsize=(8, 4))\n",
    "ax.plot(x, y)\n",
    "ax.axvline(p, 0, 1)"
   ]
  },
  {
   "cell_type": "markdown",
   "metadata": {},
   "source": [
    "(lo cual se puede hacer en $O(n)$). Basta con encontrar la mayor suma por la derecha y la mayor suma por la izquierda para listas que contengan a $L_m$."
   ]
  },
  {
   "cell_type": "markdown",
   "metadata": {
    "id": "xs9Qt2eeAP2p"
   },
   "source": [
    "## Sublista con suma máxima\n",
    "\n",
    "Dada una lista $L$ de números reales, encontrar la mayor suma posible de una sublista no vacía (con elementos contiguos).\n",
    "\n",
    "El problema se puede resolver de forma sencilla iterando sobre los posibles extremos de la lista, sin embargo, esto nos da una complejidad de al menos $O(n^2)$, ¿se puede mejorar?\n",
    "\n",
    "Consideremos dividir el problema de la siguiente forma: \n",
    "\n",
    "1. Sea $m$ la mitad de la longitud de la lista (que es $n$).\n",
    "2. Resolvemos el problema para la lista formada por $[L_0, L_1, \\ldots, L_{m-1}]$. Este regresa un número, llámese $r_1$.\n",
    "3. Resolvemos el problema para la lista formada por $[L_{m+1}, L_{m+2}, \\ldots, L_n]$. Llámese al resultado $r_2$.\n",
    "4. Encontramos la lista de mayor suma que contenga al elemento $L_m$, llámese a esta suma $r_3$.\n",
    "5. Devolvemos el máximo de $\\{r_1, r_2, r_3\\}$.\n",
    "\n",
    "Nótese que tenemos dos casos base:\n",
    "\n",
    "1. Si la lista solo tiene un elemento, regresamos dicho elemento.\n",
    "2. Si la lista tiene dos elementos, $a$ y $b$, regresamos el máximo de $\\{a,b, a+b\\}$.\n",
    "\n",
    "Finalmente, el paso 4 del algoritmo requiere de especial atención. Supongamos que tenemos la lista $L$ y el índice $m$, y queremos encontrar la sublista que contenga a $L_m$ que tiene la mayor suma. Podemos hacer esto de la siguiente manera:\n",
    "\n",
    "1. Calculamos la suma más grande de la lista $[L_0, L_1, \\ldots, L_m]$. Como la sublista debe de contener a $L_m$, podemos empezar de dicho número, e irnos moviendo hacia la izquierda, checando si la suma hasta este punto es mayor que el máximo encontrado, llámese $m_1$\n",
    "2. Hacemos lo mismo para la lista $[L_m, L_{m+1}, \\ldots, L_{n}]$, pero nos movemos hacia la derecha. Llamamos al máximo de esta parte $m_2$.\n",
    "3. Existe una tercera posibilidad, que el máximo se encuentre en una sublista de la forma $[L_i, \\ldots, L_m, \\ldots, L_j]$. Sin embargo, como ya calculamos el máximo de la parte izquierda y de la derecha, el máximo valor de esta sublista es:\n",
    "\n",
    "$$\n",
    "m_3 = m_1 + m_2 - L_m\n",
    "$$\n",
    "\n",
    "(Restamos $L_m$ ya que está considerado tanto en $r_1$ como en $r_2$).\n",
    "\n",
    "4. Finalmente, calculamos el máximo de $\\{m_1, m_2, m_3\\}$.\n",
    "\n",
    "Con esto, podemos escribir el algoritmo:"
   ]
  },
  {
   "cell_type": "code",
   "execution_count": 47,
   "metadata": {
    "colab": {
     "base_uri": "https://localhost:8080/"
    },
    "id": "x4-A_pTOVWdT",
    "outputId": "0ba290a5-af18-4b51-e5c7-ef709db0f8f3"
   },
   "outputs": [],
   "source": [
    "def max_sum(L, l=None, r=None):\n",
    "    if l is None:\n",
    "        l = 0\n",
    "    if r is None:\n",
    "        r = len(L) - 1\n",
    "        \n",
    "    if l == r: # Primer caso base\n",
    "        return L[l]\n",
    "    elif l == r - 1: # Segundo caso base\n",
    "        return max(L[l], L[r], L[r]+L[l])\n",
    "    \n",
    "    m = (l+r)//2\n",
    "    r1 = max_sum(L, l, m-1)\n",
    "    r2 = max_sum(L, m+1, r)\n",
    "    r3 = mid_sum(L, m, l, r)\n",
    "    return max(r1, r2, r3)\n",
    "\n",
    "def mid_sum(L, m, l, r):\n",
    "    m1 = m2 = float(\"-inf\")\n",
    "    sum_r = sum_l = 0\n",
    "    \n",
    "    # Suma de la izquierda\n",
    "    idx = m\n",
    "    while idx >= l:\n",
    "        sum_l += L[idx]\n",
    "        if sum_l > m1:\n",
    "            m1 = sum_l\n",
    "        idx -= 1\n",
    "    \n",
    "    # Suma de la derecha\n",
    "    idx = m\n",
    "    while idx <= r:\n",
    "        sum_r += L[idx]\n",
    "        if sum_r > m2:\n",
    "            m2 = sum_r\n",
    "        idx += 1\n",
    "    \n",
    "    # Suma de la lista de en medio\n",
    "    m3 = m1 + m2 - L[m]\n",
    "    return max(m1, m2, m3)"
   ]
  },
  {
   "cell_type": "markdown",
   "metadata": {},
   "source": [
    "Aplicándolo a la siguiente lista:"
   ]
  },
  {
   "cell_type": "code",
   "execution_count": 48,
   "metadata": {
    "colab": {
     "base_uri": "https://localhost:8080/"
    },
    "id": "x4-A_pTOVWdT",
    "outputId": "0ba290a5-af18-4b51-e5c7-ef709db0f8f3"
   },
   "outputs": [
    {
     "data": {
      "text/plain": [
       "7"
      ]
     },
     "execution_count": 48,
     "metadata": {},
     "output_type": "execute_result"
    }
   ],
   "source": [
    "L = [-2, -5, 6, -2, -3, 1, 5, -6]\n",
    "max_sum(L)"
   ]
  }
 ],
 "metadata": {
  "colab": {
   "collapsed_sections": [],
   "include_colab_link": true,
   "name": "Búsqueda binaria y más allá.ipynb",
   "provenance": []
  },
  "kernelspec": {
   "display_name": "Python 3 (ipykernel)",
   "language": "python",
   "name": "python3"
  },
  "language_info": {
   "codemirror_mode": {
    "name": "ipython",
    "version": 3
   },
   "file_extension": ".py",
   "mimetype": "text/x-python",
   "name": "python",
   "nbconvert_exporter": "python",
   "pygments_lexer": "ipython3",
   "version": "3.9.12"
  }
 },
 "nbformat": 4,
 "nbformat_minor": 4
}
